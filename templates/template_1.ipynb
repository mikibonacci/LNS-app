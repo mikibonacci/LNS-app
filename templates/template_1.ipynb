{
 "cells": [
  {
   "cell_type": "markdown",
   "id": "5a297c9c",
   "metadata": {},
   "source": [
    "# Example 1\n",
    "\n",
    "This notebook shows how to plot results from the example data contained in the Mnf2_oct_2021/data folder. \n",
    "You can use the notebook both in Editable or Appmode."
   ]
  },
  {
   "cell_type": "code",
   "execution_count": null,
   "id": "c6d6c7cf",
   "metadata": {},
   "outputs": [],
   "source": [
    "# Import of libraries needed\n",
    "%matplotlib notebook\n",
    "\n",
    "from MJOLNIR.Data import DataSet\n",
    "from MJOLNIR import _tools # Usefull tools useful across MJOLNIR\n",
    "import numpy as np\n",
    "import matplotlib.pyplot as plt\n",
    "from pathlib import Path\n",
    "\n",
    "plt.rcParams['font.family'] = 'DeJavu Serif'\n",
    "plt.rcParams['font.serif'] = ['Times New Roman']"
   ]
  },
  {
   "cell_type": "code",
   "execution_count": null,
   "id": "bb3e163f",
   "metadata": {},
   "outputs": [],
   "source": [
    "# Please don't change this cell, it will be replaced by the template engine\n",
    "PROPOSAL_ID = \"--PROPOSAL_ID--\"\n",
    "PATH = \"--PATH--\""
   ]
  },
  {
   "cell_type": "code",
   "execution_count": null,
   "id": "af5e83b2",
   "metadata": {},
   "outputs": [],
   "source": [
    "if PROPOSAL_ID == \"--PROPOSAL_ID--\": PROPOSAL_ID = '2103456'\n",
    "if PATH == \"--PATH--\": PATH = 'Mnf2_oct_2021' / 'data' / PROPOSAL_ID\n",
    "    \n",
    "path = Path.resolve(Path(PATH) / PROPOSAL_ID)\n",
    "\n",
    "# Loading and conversion of data\n",
    "files = _tools.fileListGenerator(\n",
    "    '1371-1388', \n",
    "    folder=path,\n",
    "    year=2021\n",
    ")\n",
    "\n",
    "# Define the DataSet object and provide file(s)\n",
    "ds = DataSet.DataSet(dataFiles=files)\n",
    "\n",
    "# Run the converter. If no binning is specified MJOLNIR uses highest possible binning (currently 8)\n",
    "ds.convertDataFile()"
   ]
  },
  {
   "cell_type": "code",
   "execution_count": null,
   "id": "daa33ee8",
   "metadata": {},
   "outputs": [],
   "source": [
    "Viewer = ds.View3D(0.03,0.03,0.05, grid=True, size_inches=(9,6))"
   ]
  },
  {
   "cell_type": "code",
   "execution_count": null,
   "id": "020cda55",
   "metadata": {},
   "outputs": [],
   "source": []
  }
 ],
 "metadata": {
  "kernelspec": {
   "display_name": "Python 3 (ipykernel)",
   "language": "python",
   "name": "python3"
  },
  "language_info": {
   "codemirror_mode": {
    "name": "ipython",
    "version": 3
   },
   "file_extension": ".py",
   "mimetype": "text/x-python",
   "name": "python",
   "nbconvert_exporter": "python",
   "pygments_lexer": "ipython3",
   "version": "3.9.13"
  }
 },
 "nbformat": 4,
 "nbformat_minor": 5
}
