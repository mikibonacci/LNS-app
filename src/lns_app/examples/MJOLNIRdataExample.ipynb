{
 "cells": [
  {
   "cell_type": "markdown",
   "metadata": {},
   "source": [
    "# Your Sample"
   ]
  },
  {
   "cell_type": "markdown",
   "metadata": {},
   "source": [
    "Reads in all packages you may need"
   ]
  },
  {
   "cell_type": "code",
   "execution_count": 1,
   "metadata": {},
   "outputs": [],
   "source": [
    "import matplotlib.pyplot as plt\n",
    "try:\n",
    "    import IPython\n",
    "    shell = IPython.get_ipython()\n",
    "    shell.enable_matplotlib(gui='qt')\n",
    "except:\n",
    "    pass\n",
    "\n",
    "\n",
    "from MJOLNIR import _tools\n",
    "from MJOLNIR.Data import DataSet\n",
    "from lmfit import Model, Parameter, report_fit\n",
    "from MJOLNIR.Data import Mask\n",
    "from MJOLNIR._tools import fileListGenerator\n",
    "\n",
    "import numpy as np\n",
    "from os import path\n",
    "from scipy.ndimage import gaussian_filter\n",
    "from scipy import interpolate\n",
    "import pandas as pd\n",
    "import copy"
   ]
  },
  {
   "cell_type": "code",
   "execution_count": 2,
   "metadata": {
    "jupyter": {
     "source_hidden": true
    }
   },
   "outputs": [],
   "source": [
    "from matplotlib.colors import LinearSegmentedColormap\n",
    "cm_data = [[0.2422, 0.1504, 0.6603],\n",
    "[0.2444, 0.1534, 0.6728],\n",
    "[0.2464, 0.1569, 0.6847],\n",
    "[0.2484, 0.1607, 0.6961],\n",
    "[0.2503, 0.1648, 0.7071],\n",
    "[0.2522, 0.1689, 0.7179],\n",
    "[0.254, 0.1732, 0.7286],\n",
    "[0.2558, 0.1773, 0.7393],\n",
    "[0.2576, 0.1814, 0.7501],\n",
    "[0.2594, 0.1854, 0.761],\n",
    "[0.2611, 0.1893, 0.7719],\n",
    "[0.2628, 0.1932, 0.7828],\n",
    "[0.2645, 0.1972, 0.7937],\n",
    "[0.2661, 0.2011, 0.8043],\n",
    "[0.2676, 0.2052, 0.8148],\n",
    "[0.2691, 0.2094, 0.8249],\n",
    "[0.2704, 0.2138, 0.8346],\n",
    "[0.2717, 0.2184, 0.8439],\n",
    "[0.2729, 0.2231, 0.8528],\n",
    "[0.274, 0.228, 0.8612],\n",
    "[0.2749, 0.233, 0.8692],\n",
    "[0.2758, 0.2382, 0.8767],\n",
    "[0.2766, 0.2435, 0.884],\n",
    "[0.2774, 0.2489, 0.8908],\n",
    "[0.2781, 0.2543, 0.8973],\n",
    "[0.2788, 0.2598, 0.9035],\n",
    "[0.2794, 0.2653, 0.9094],\n",
    "[0.2798, 0.2708, 0.915],\n",
    "[0.2802, 0.2764, 0.9204],\n",
    "[0.2806, 0.2819, 0.9255],\n",
    "[0.2809, 0.2875, 0.9305],\n",
    "[0.2811, 0.293, 0.9352],\n",
    "[0.2813, 0.2985, 0.9397],\n",
    "[0.2814, 0.304, 0.9441],\n",
    "[0.2814, 0.3095, 0.9483],\n",
    "[0.2813, 0.315, 0.9524],\n",
    "[0.2811, 0.3204, 0.9563],\n",
    "[0.2809, 0.3259, 0.96],\n",
    "[0.2807, 0.3313, 0.9636],\n",
    "[0.2803, 0.3367, 0.967],\n",
    "[0.2798, 0.3421, 0.9702],\n",
    "[0.2791, 0.3475, 0.9733],\n",
    "[0.2784, 0.3529, 0.9763],\n",
    "[0.2776, 0.3583, 0.9791],\n",
    "[0.2766, 0.3638, 0.9817],\n",
    "[0.2754, 0.3693, 0.984],\n",
    "[0.2741, 0.3748, 0.9862],\n",
    "[0.2726, 0.3804, 0.9881],\n",
    "[0.271, 0.386, 0.9898],\n",
    "[0.2691, 0.3916, 0.9912],\n",
    "[0.267, 0.3973, 0.9924],\n",
    "[0.2647, 0.403, 0.9935],\n",
    "[0.2621, 0.4088, 0.9946],\n",
    "[0.2591, 0.4145, 0.9955],\n",
    "[0.2556, 0.4203, 0.9965],\n",
    "[0.2517, 0.4261, 0.9974],\n",
    "[0.2473, 0.4319, 0.9983],\n",
    "[0.2424, 0.4378, 0.9991],\n",
    "[0.2369, 0.4437, 0.9996],\n",
    "[0.2311, 0.4497, 0.9995],\n",
    "[0.225, 0.4559, 0.9985],\n",
    "[0.2189, 0.462, 0.9968],\n",
    "[0.2128, 0.4682, 0.9948],\n",
    "[0.2066, 0.4743, 0.9926],\n",
    "[0.2006, 0.4803, 0.9906],\n",
    "[0.195, 0.4861, 0.9887],\n",
    "[0.1903, 0.4919, 0.9867],\n",
    "[0.1869, 0.4975, 0.9844],\n",
    "[0.1847, 0.503, 0.9819],\n",
    "[0.1831, 0.5084, 0.9793],\n",
    "[0.1818, 0.5138, 0.9766],\n",
    "[0.1806, 0.5191, 0.9738],\n",
    "[0.1795, 0.5244, 0.9709],\n",
    "[0.1785, 0.5296, 0.9677],\n",
    "[0.1778, 0.5349, 0.9641],\n",
    "[0.1773, 0.5401, 0.9602],\n",
    "[0.1768, 0.5452, 0.956],\n",
    "[0.1764, 0.5504, 0.9516],\n",
    "[0.1755, 0.5554, 0.9473],\n",
    "[0.174, 0.5605, 0.9432],\n",
    "[0.1716, 0.5655, 0.9393],\n",
    "[0.1686, 0.5705, 0.9357],\n",
    "[0.1649, 0.5755, 0.9323],\n",
    "[0.161, 0.5805, 0.9289],\n",
    "[0.1573, 0.5854, 0.9254],\n",
    "[0.154, 0.5902, 0.9218],\n",
    "[0.1513, 0.595, 0.9182],\n",
    "[0.1492, 0.5997, 0.9147],\n",
    "[0.1475, 0.6043, 0.9113],\n",
    "[0.1461, 0.6089, 0.908],\n",
    "[0.1446, 0.6135, 0.905],\n",
    "[0.1429, 0.618, 0.9022],\n",
    "[0.1408, 0.6226, 0.8998],\n",
    "[0.1383, 0.6272, 0.8975],\n",
    "[0.1354, 0.6317, 0.8953],\n",
    "[0.1321, 0.6363, 0.8932],\n",
    "[0.1288, 0.6408, 0.891],\n",
    "[0.1253, 0.6453, 0.8887],\n",
    "[0.1219, 0.6497, 0.8862],\n",
    "[0.1185, 0.6541, 0.8834],\n",
    "[0.1152, 0.6584, 0.8804],\n",
    "[0.1119, 0.6627, 0.877],\n",
    "[0.1085, 0.6669, 0.8734],\n",
    "[0.1048, 0.671, 0.8695],\n",
    "[0.1009, 0.675, 0.8653],\n",
    "[0.0964, 0.6789, 0.8609],\n",
    "[0.0914, 0.6828, 0.8562],\n",
    "[0.0855, 0.6865, 0.8513],\n",
    "[0.0789, 0.6902, 0.8462],\n",
    "[0.0713, 0.6938, 0.8409],\n",
    "[0.0628, 0.6972, 0.8355],\n",
    "[0.0535, 0.7006, 0.8299],\n",
    "[0.0433, 0.7039, 0.8242],\n",
    "[0.0328, 0.7071, 0.8183],\n",
    "[0.0234, 0.7103, 0.8124],\n",
    "[0.0155, 0.7133, 0.8064],\n",
    "[0.0091, 0.7163, 0.8003],\n",
    "[0.0046, 0.7192, 0.7941],\n",
    "[0.0019, 0.722, 0.7878],\n",
    "[0.0009, 0.7248, 0.7815],\n",
    "[0.0018, 0.7275, 0.7752],\n",
    "[0.0046, 0.7301, 0.7688],\n",
    "[0.0094, 0.7327, 0.7623],\n",
    "[0.0162, 0.7352, 0.7558],\n",
    "[0.0253, 0.7376, 0.7492],\n",
    "[0.0369, 0.74, 0.7426],\n",
    "[0.0504, 0.7423, 0.7359],\n",
    "[0.0638, 0.7446, 0.7292],\n",
    "[0.077, 0.7468, 0.7224],\n",
    "[0.0899, 0.7489, 0.7156],\n",
    "[0.1023, 0.751, 0.7088],\n",
    "[0.1141, 0.7531, 0.7019],\n",
    "[0.1252, 0.7552, 0.695],\n",
    "[0.1354, 0.7572, 0.6881],\n",
    "[0.1448, 0.7593, 0.6812],\n",
    "[0.1532, 0.7614, 0.6741],\n",
    "[0.1609, 0.7635, 0.6671],\n",
    "[0.1678, 0.7656, 0.6599],\n",
    "[0.1741, 0.7678, 0.6527],\n",
    "[0.1799, 0.7699, 0.6454],\n",
    "[0.1853, 0.7721, 0.6379],\n",
    "[0.1905, 0.7743, 0.6303],\n",
    "[0.1954, 0.7765, 0.6225],\n",
    "[0.2003, 0.7787, 0.6146],\n",
    "[0.2061, 0.7808, 0.6065],\n",
    "[0.2118, 0.7828, 0.5983],\n",
    "[0.2178, 0.7849, 0.5899],\n",
    "[0.2244, 0.7869, 0.5813],\n",
    "[0.2318, 0.7887, 0.5725],\n",
    "[0.2401, 0.7905, 0.5636],\n",
    "[0.2491, 0.7922, 0.5546],\n",
    "[0.2589, 0.7937, 0.5454],\n",
    "[0.2695, 0.7951, 0.536],\n",
    "[0.2809, 0.7964, 0.5266],\n",
    "[0.2929, 0.7975, 0.517],\n",
    "[0.3052, 0.7985, 0.5074],\n",
    "[0.3176, 0.7994, 0.4975],\n",
    "[0.3301, 0.8002, 0.4876],\n",
    "[0.3424, 0.8009, 0.4774],\n",
    "[0.3548, 0.8016, 0.4669],\n",
    "[0.3671, 0.8021, 0.4563],\n",
    "[0.3795, 0.8026, 0.4454],\n",
    "[0.3921, 0.8029, 0.4344],\n",
    "[0.405, 0.8031, 0.4233],\n",
    "[0.4184, 0.803, 0.4122],\n",
    "[0.4322, 0.8028, 0.4013],\n",
    "[0.4463, 0.8024, 0.3904],\n",
    "[0.4608, 0.8018, 0.3797],\n",
    "[0.4753, 0.8011, 0.3691],\n",
    "[0.4899, 0.8002, 0.3586],\n",
    "[0.5044, 0.7993, 0.348],\n",
    "[0.5187, 0.7982, 0.3374],\n",
    "[0.5329, 0.797, 0.3267],\n",
    "[0.547, 0.7957, 0.3159],\n",
    "[0.5609, 0.7943, 0.305],\n",
    "[0.5748, 0.7929, 0.2941],\n",
    "[0.5886, 0.7913, 0.2833],\n",
    "[0.6024, 0.7896, 0.2726],\n",
    "[0.6161, 0.7878, 0.2622],\n",
    "[0.6297, 0.7859, 0.2521],\n",
    "[0.6433, 0.7839, 0.2423],\n",
    "[0.6567, 0.7818, 0.2329],\n",
    "[0.6701, 0.7796, 0.2239],\n",
    "[0.6833, 0.7773, 0.2155],\n",
    "[0.6963, 0.775, 0.2075],\n",
    "[0.7091, 0.7727, 0.1998],\n",
    "[0.7218, 0.7703, 0.1924],\n",
    "[0.7344, 0.7679, 0.1852],\n",
    "[0.7468, 0.7654, 0.1782],\n",
    "[0.759, 0.7629, 0.1717],\n",
    "[0.771, 0.7604, 0.1658],\n",
    "[0.7829, 0.7579, 0.1608],\n",
    "[0.7945, 0.7554, 0.157],\n",
    "[0.806, 0.7529, 0.1546],\n",
    "[0.8172, 0.7505, 0.1535],\n",
    "[0.8281, 0.7481, 0.1536],\n",
    "[0.8389, 0.7457, 0.1546],\n",
    "[0.8495, 0.7435, 0.1564],\n",
    "[0.86, 0.7413, 0.1587],\n",
    "[0.8703, 0.7392, 0.1615],\n",
    "[0.8804, 0.7372, 0.165],\n",
    "[0.8903, 0.7353, 0.1695],\n",
    "[0.9, 0.7336, 0.1749],\n",
    "[0.9093, 0.7321, 0.1815],\n",
    "[0.9184, 0.7308, 0.189],\n",
    "[0.9272, 0.7298, 0.1973],\n",
    "[0.9357, 0.729, 0.2061],\n",
    "[0.944, 0.7285, 0.2151],\n",
    "[0.9523, 0.7284, 0.2237],\n",
    "[0.9606, 0.7285, 0.2312],\n",
    "[0.9689, 0.7292, 0.2373],\n",
    "[0.977, 0.7304, 0.2418],\n",
    "[0.9842, 0.733, 0.2446],\n",
    "[0.99, 0.7365, 0.2429],\n",
    "[0.9946, 0.7407, 0.2394],\n",
    "[0.9966, 0.7458, 0.2351],\n",
    "[0.9971, 0.7513, 0.2309],\n",
    "[0.9972, 0.7569, 0.2267],\n",
    "[0.9971, 0.7626, 0.2224],\n",
    "[0.9969, 0.7683, 0.2181],\n",
    "[0.9966, 0.774, 0.2138],\n",
    "[0.9962, 0.7798, 0.2095],\n",
    "[0.9957, 0.7856, 0.2053],\n",
    "[0.9949, 0.7915, 0.2012],\n",
    "[0.9938, 0.7974, 0.1974],\n",
    "[0.9923, 0.8034, 0.1939],\n",
    "[0.9906, 0.8095, 0.1906],\n",
    "[0.9885, 0.8156, 0.1875],\n",
    "[0.9861, 0.8218, 0.1846],\n",
    "[0.9835, 0.828, 0.1817],\n",
    "[0.9807, 0.8342, 0.1787],\n",
    "[0.9778, 0.8404, 0.1757],\n",
    "[0.9748, 0.8467, 0.1726],\n",
    "[0.972, 0.8529, 0.1695],\n",
    "[0.9694, 0.8591, 0.1665],\n",
    "[0.9671, 0.8654, 0.1636],\n",
    "[0.9651, 0.8716, 0.1608],\n",
    "[0.9634, 0.8778, 0.1582],\n",
    "[0.9619, 0.884, 0.1557],\n",
    "[0.9608, 0.8902, 0.1532],\n",
    "[0.9601, 0.8963, 0.1507],\n",
    "[0.9596, 0.9023, 0.148],\n",
    "[0.9595, 0.9084, 0.145],\n",
    "[0.9597, 0.9143, 0.1418],\n",
    "[0.9601, 0.9203, 0.1382],\n",
    "[0.9608, 0.9262, 0.1344],\n",
    "[0.9618, 0.932, 0.1304],\n",
    "[0.9629, 0.9379, 0.1261],\n",
    "[0.9642, 0.9437, 0.1216],\n",
    "[0.9657, 0.9494, 0.1168],\n",
    "[0.9674, 0.9552, 0.1116],\n",
    "[0.9692, 0.9609, 0.1061],\n",
    "[0.9711, 0.9667, 0.1001],\n",
    "[0.973, 0.9724, 0.0938],\n",
    "[0.9749, 0.9782, 0.0872],\n",
    "[0.9769, 0.9839, 0.0805]]\n",
    "\n",
    "parula = LinearSegmentedColormap.from_list('parula', cm_data)"
   ]
  },
  {
   "cell_type": "code",
   "execution_count": 3,
   "metadata": {},
   "outputs": [],
   "source": [
    "def generateBG(foregroundDataSet,backgroundDataSet, foregroundMask = None,dQ=0.02,dE=0.1,plotPowderAverage=False,verbose=True):\n",
    "    \"\"\"Generate a background dataset using the backgroundDataSet to perform powder averaged background interpolation\n",
    "    in the shape of the foregroundDataSet.\n",
    "    \n",
    "    Args:\n",
    "    \n",
    "        - foregroundDataSet (DataSet): Foreground data set to be replicated by the bg\n",
    "        \n",
    "        - backgroundDataSet (DataSet): Masked data set to be used for background masking out intensities. \n",
    "        \n",
    "    Kwargs: \n",
    "    \n",
    "        - foregroundMask (Mask): Mask to apply to powder-averaged background dataset. If none use mask from foregroundDataSet (default None)\n",
    "    \n",
    "        - dQ (float): Bin size along Qlength (default 0.02 1/AA)\n",
    "        \n",
    "        - dE (float): Bin size in energy (default 0.1 meV)\n",
    "        \n",
    "        - plotPowderAverage (bool): Flag to control plotting of powder average, if true ax is also returned (default False)\n",
    "        \n",
    "        - verbose (bool): If true, print the averaging process to the command line (default True)\n",
    "        \n",
    "    \n",
    "    \"\"\"\n",
    "    # Reset the mask of ds to be nothing\n",
    "    bgmask = copy.deepcopy(backgroundDataSet.mask)\n",
    "    backgroundDataSet.mask = [np.zeros_like(df.I,dtype=bool) for df in backgroundDataSet]\n",
    "    \n",
    "    # Find the maximal positions before the mask is applied\n",
    "    qLength = np.array([np.max(np.linalg.norm([df.qx,df.qy],axis=0)) for df in backgroundDataSet])\n",
    "    E = [[np.min(e),np.max(e)] for e in ds.energy.data]\n",
    "    QMax = np.max(qLength) # QMin is always set to 0\n",
    "    EMin = np.nanmin(E)\n",
    "    EMax = np.nanmax(E)\n",
    "    if verbose:\n",
    "        print('Bin limites are\\n','Q:',0.0,QMax,'\\nE:',EMin,EMax)\n",
    "        print('Copying bg dataset')\n",
    "    \n",
    "    backgroundDataSet.mask = bgmask\n",
    "    \n",
    "    # Copy the foreground data to bg data set\n",
    "    newBackgroundDataSet = copy.deepcopy(foregroundDataSet)\n",
    "\n",
    "    \n",
    "    if verbose:\n",
    "        print('Performing powder average')\n",
    "    # Prepare for powder average of background data\n",
    "    I = backgroundDataSet.I.extractData()\n",
    "    Monitor = backgroundDataSet.Monitor.extractData()\n",
    "    Norm = backgroundDataSet.Norm.extractData()\n",
    "    \n",
    "    # Position in the powder average (QLength, Energy)\n",
    "    positions2D = np.array([np.linalg.norm([backgroundDataSet.qx.extractData(),\n",
    "                                            backgroundDataSet.qy.extractData()],axis=0),\n",
    "                            backgroundDataSet.energy.extractData()])\n",
    "\n",
    "    # Generate the bins with suitable extensions\n",
    "    QBins = np.arange(0,QMax+dQ*1.1,dQ)\n",
    "    EnergyBins = np.arange(EMin-dE*1.1,EMax+dE*1.1,dE)\n",
    "\n",
    "    \n",
    "    # Perform 2D histogram\n",
    "    normcounts,*powderBins = np.histogram2d(*positions2D,bins=np.array([QBins,EnergyBins],dtype=object),weights=np.ones((positions2D.shape[1])).flatten())\n",
    "    intensity = np.histogram2d(*positions2D,bins=np.array([QBins,EnergyBins],dtype=object),weights=I.flatten())[0]\n",
    "    MonitorCount=  np.histogram2d(*positions2D,bins=np.array([QBins,EnergyBins],dtype=object),weights=Monitor.flatten())[0]\n",
    "    Normalization= np.histogram2d(*positions2D,bins=np.array([QBins,EnergyBins],dtype=object),weights=Norm.flatten())[0]\n",
    "\n",
    "    # Calcualte the intensities\n",
    "    Int = np.divide(intensity*normcounts,MonitorCount*Normalization)\n",
    "    #eMean = 0.5*(EnergyBins[:-1]+EnergyBins[1:])\n",
    "    #qMean = 0.5*(QBins[:-1]+QBins[1:])\n",
    "\n",
    "    \n",
    "    if plotPowderAverage: # Plot the powder average\n",
    "        powderFig,powderAx = plt.subplots()\n",
    "        X,Y = np.meshgrid(QBins,EnergyBins)\n",
    "        powderAx.pcolormesh(X,Y,Int.T)\n",
    "    \n",
    "    if verbose:\n",
    "        print('Finding intensities for background dataset')\n",
    "    # Find intensites for individual points in the scan across data files\n",
    "    for count,df in enumerate(newBackgroundDataSet):\n",
    "        dfPosition = np.array([np.linalg.norm([df.qx,df.qy],axis=0),df.energy])\n",
    "        # Calculate the bin index\n",
    "        qIndex = np.floor((dfPosition[0]-QBins[0])/dQ).astype(int)#np.asarray([np.argmin(np.abs(qpos-qMean)) for qpos in dfPosition[0].flatten()]).reshape(*dfPosition[0].shape)\n",
    "        eIndex = np.floor((dfPosition[1]-EnergyBins[0])/dE).astype(int)#np.asarray([np.argmin(np.abs(epos-eMean)) for epos in dfPosition[1].flatten()]).reshape(*dfPosition[1].shape)\n",
    "\n",
    "        # Clamp the indicies (Might not be needed....)\n",
    "        qIndex[qIndex<0]=0\n",
    "        qIndex[qIndex>Int.shape[0]-1]=Int.shape[0]-1\n",
    "        eIndex[eIndex<0]=0\n",
    "        eIndex[eIndex>Int.shape[1]-1]=Int.shape[1]-1\n",
    "        \n",
    "        # Find intensity by rescaling with monitor and normalization\n",
    "        df.I = Int[[qIndex],[eIndex]][0]*df.Monitor*df.Norm\n",
    "        if verbose:\n",
    "            print('df',count+1,'of',len(backgroundDataSet))\n",
    "    # update the background data set\n",
    "    newBackgroundDataSet._getData()\n",
    "    # Apply the foreground mask to the background dataset\n",
    "    \n",
    "    if foregroundMask is None:\n",
    "        newBackgroundDataSet.mask = foregroundDataSet.mask\n",
    "    else:\n",
    "        newBackgroundDataSet.mask = foregroundMask(newBackgroundDataSet)\n",
    "    \n",
    "    if plotPowderAverage:\n",
    "        return newBackgroundDataSet,powderAx\n",
    "    return newBackgroundDataSet\n",
    "    "
   ]
  },
  {
   "cell_type": "markdown",
   "metadata": {},
   "source": [
    "Reads in fitting functions"
   ]
  },
  {
   "cell_type": "code",
   "execution_count": 5,
   "metadata": {},
   "outputs": [],
   "source": [
    "def gaussian(x,bg, amp1, cen1, wid1):\n",
    "    return bg+amp1/(np.sqrt(2*np.pi)*wid1) * np.exp(-(x-cen1)**2 /(2*wid1**2))\n",
    "def gaussianslope(x,bg,slope, amp1, cen1, wid1):\n",
    "    return bg+slope*(x-cen1)+amp1/(np.sqrt(2*np.pi)*wid1) * np.exp(-(x-cen1)**2 /(2*wid1**2))\n",
    "def gaussianslopefixedzero(x,bg,slope, amp1, wid1):\n",
    "    cen1=0\n",
    "    return bg+slope*(x-cen1)+amp1/(np.sqrt(2*np.pi)*wid1) * np.exp(-(x-cen1)**2 /(2*wid1**2))\n",
    "def gaussianexp(x,bg,alpha, amp1, cen1, wid1):\n",
    "    return bg+np.exp(-alpha*(x-cen1))+amp1/(np.sqrt(2*np.pi)*wid1) * np.exp(-(x-cen1)**2 /(2*wid1**2))\n",
    "def gaussian2(x,bg, amp1, cen1, wid1, amp2, cen2, wid2):\n",
    "    return bg+amp1/(np.sqrt(2*np.pi)*wid1) * np.exp(-(x-cen1)**2 /(2*wid1**2))+amp2/(np.sqrt(2*np.pi)*wid2) * np.exp(-(x-cen2)**2 /(2*wid2**2))\n",
    "def gaussian2slope(x,bg,slope, amp1, cen1, wid1, amp2, cen2, wid2):\n",
    "    return bg+slope*(x-cen1)+amp1/(np.sqrt(2*np.pi)*wid1) * np.exp(-(x-cen1)**2 /(2*wid1**2))+amp2/(np.sqrt(2*np.pi)*wid2) * np.exp(-(x-cen2)**2 /(2*wid2**2))\n",
    "def gaussian3(x,bg, amp1, cen1, wid1, amp2, cen2, wid2, amp3, cen3, wid3):\n",
    "    return bg+amp1/(np.sqrt(2*np.pi)*wid1) * np.exp(-(x-cen1)**2 /(2*wid1**2))+amp2/(np.sqrt(2*np.pi)*wid2) * np.exp(-(x-cen2)**2 /(2*wid2**2))+amp3/(np.sqrt(2*np.pi)*wid3) * np.exp(-(x-cen3)**2 /(2*wid3**2))\n",
    "def gaussian4(x,bg, amp1, cen1, wid1, amp2, cen2, wid2, amp3, cen3, wid3, amp4, cen4, wid4):\n",
    "    return bg+amp1/(np.sqrt(2*np.pi)*wid1) * np.exp(-(x-cen1)**2 /(2*wid1**2))+amp2/(np.sqrt(2*np.pi)*wid2) * np.exp(-(x-cen2)**2 /(2*wid2**2))+amp3/(np.sqrt(2*np.pi)*wid3) * np.exp(-(x-cen3)**2 /(2*wid3**2))+amp4/(np.sqrt(2*np.pi)*wid4) * np.exp(-(x-cen4)**2 /(2*wid4**2))"
   ]
  },
  {
   "cell_type": "code",
   "execution_count": 10,
   "metadata": {},
   "outputs": [],
   "source": [
    "def cleaning(ds,treshold):\n",
    "    i=0\n",
    "    for dataset in range(len(ds)):\n",
    "        for a3 in range(0,len(ds.a3[dataset])-1):\n",
    "            if (np.sum(ds[dataset].I[a3,:,:],axis=(0,1))<treshold):\n",
    "                ds[dataset].I[a3,:,:]=0\n",
    "                ds[dataset].Monitor[a3,:,:]=0\n",
    "                i=i+1\n",
    "    return i"
   ]
  },
  {
   "cell_type": "markdown",
   "metadata": {},
   "source": [
    "# Data"
   ]
  },
  {
   "cell_type": "markdown",
   "metadata": {},
   "source": [
    "Example how to load and convert files\n",
    "\n",
    "(choose binning 1-8)\n",
    "\n",
    "Use binning 8 for high resolution"
   ]
  },
  {
   "cell_type": "markdown",
   "metadata": {},
   "source": [
    "Load in dataset if you want to rotate by angle alpha"
   ]
  },
  {
   "cell_type": "code",
   "execution_count": 224,
   "metadata": {},
   "outputs": [
    {
     "name": "stdout",
     "output_type": "stream",
     "text": [
      "0\n"
     ]
    }
   ],
   "source": [
    "files = _tools.fileListGenerator(\"3990-3993,3995-4013\",r\"data\",2024)\n",
    "ds = DataSet.DataSet(files)\n",
    "ds.convertDataFile(binning = 8,saveFile=False) \n",
    "#check if problems are in some dataset and correct for it:\n",
    "treshold=50\n",
    "i=cleaning(ds,treshold)\n",
    "print(i)"
   ]
  },
  {
   "cell_type": "markdown",
   "metadata": {},
   "source": [
    "# Masking, Absorption correction, symmetrization"
   ]
  },
  {
   "cell_type": "markdown",
   "metadata": {},
   "source": [
    "In case some data should be masked out (needs modification for your sample) (adapt accordingly)"
   ]
  },
  {
   "cell_type": "code",
   "execution_count": 225,
   "metadata": {},
   "outputs": [],
   "source": [
    "mask=[]\n",
    "ds=ds\n",
    "#Mask for Currate Axes spurions (Q points in [] and width given in dqx, dqy)\n",
    "mask.append(Mask.CurratAxeMask([[0,1,-1],[0,-1,-1],[0,1,1],[0,-1,1],[0,2,0]],dqx=0.08,dqy=0.08))\n",
    "mask.append(Mask.CurratAxeMask([[0,0,-1]],dqx=0.08,dqy=0.08))\n",
    "mask.append(Mask.circleMask([0,0],[0,-2],coordinates=['qx','qy'],maskInside=False)*Mask.lineMask(9.1,9.4,coordinates='energy',maskInside=True)*Mask.lineMask(12.3,13.5,coordinates='Ei',maskInside=True))\n",
    "\n",
    "\n",
    "ds.mask = [np.logical_or(m1,m2) for m1,m2 in zip(ds.mask,np.sum(mask)(ds))]"
   ]
  },
  {
   "cell_type": "markdown",
   "metadata": {},
   "source": [
    "# Plotting"
   ]
  },
  {
   "cell_type": "markdown",
   "metadata": {},
   "source": [
    "3D view of datase ds\n",
    "\n",
    "(binning along Qx, Qy, energy)\n",
    "\n",
    "Qx nd Qx = 0.02 are good if 1 degree steps in a3 are used, energy 0.1-0.2 is reasonable for overview\n",
    "\n",
    "min and max of c-axis"
   ]
  },
  {
   "cell_type": "code",
   "execution_count": 281,
   "metadata": {},
   "outputs": [],
   "source": [
    "Viewer = ds.View3D(0.03,0.03,.1,grid=9,rlu=True)\n",
    "Viewer.caxis=(-0.0,.25)\n",
    "plt.show()"
   ]
  },
  {
   "cell_type": "code",
   "execution_count": 160,
   "metadata": {},
   "outputs": [],
   "source": [
    "Viewer.caxis=(0.0,0.1)"
   ]
  },
  {
   "cell_type": "markdown",
   "metadata": {},
   "source": [
    "Checks length of BZ\n",
    "\n",
    "This is used to estimated width and min pixels later"
   ]
  },
  {
   "cell_type": "code",
   "execution_count": 242,
   "metadata": {},
   "outputs": [
    {
     "name": "stdout",
     "output_type": "stream",
     "text": [
      "BZ length H in AA-1 = 0.05927533308659987\n",
      "BZ length K in AA-1 = 0.10096506677515377\n",
      "BZ length L in AA-1 = 0.1289540435922086\n"
     ]
    }
   ],
   "source": [
    "print('BZ length H in AA-1 = '+str(2*np.pi/ds[0].sample.a*0.1))\n",
    "print('BZ length K in AA-1 = '+str(2*np.pi/ds[0].sample.b*0.1))\n",
    "print('BZ length L in AA-1 = '+str(2*np.pi/ds[0].sample.c*0.1))"
   ]
  },
  {
   "cell_type": "markdown",
   "metadata": {},
   "source": [
    "Creates a powder average of the data"
   ]
  },
  {
   "cell_type": "code",
   "execution_count": 249,
   "metadata": {},
   "outputs": [
    {
     "ename": "AttributeError",
     "evalue": "Key-word argument \"cmap\" not understood. Did you mean \"snap\"?",
     "output_type": "error",
     "traceback": [
      "\u001b[0;31m---------------------------------------------------------------------------\u001b[0m",
      "\u001b[0;31mAttributeError\u001b[0m                            Traceback (most recent call last)",
      "Cell \u001b[0;32mIn[249], line 12\u001b[0m\n\u001b[1;32m     10\u001b[0m vmax\u001b[38;5;241m=\u001b[39m\u001b[38;5;241m0.05\u001b[39m \u001b[38;5;66;03m#maximum of colorscale\u001b[39;00m\n\u001b[1;32m     11\u001b[0m cmap\u001b[38;5;241m=\u001b[39mparula\n\u001b[0;32m---> 12\u001b[0m data\u001b[38;5;241m=\u001b[39mds\u001b[38;5;241m.\u001b[39mplotCutPowder(EBins\u001b[38;5;241m=\u001b[39mnp\u001b[38;5;241m.\u001b[39marange(EMin,EMax,dE), QBins\u001b[38;5;241m=\u001b[39mnp\u001b[38;5;241m.\u001b[39marange(QMin,QMax, dQ),cmap\u001b[38;5;241m=\u001b[39mcmap,vmin\u001b[38;5;241m=\u001b[39mvmin,vmax\u001b[38;5;241m=\u001b[39mvmax)\n\u001b[1;32m     13\u001b[0m fig,axs3\u001b[38;5;241m=\u001b[39mplt\u001b[38;5;241m.\u001b[39msubplots(\u001b[38;5;241m1\u001b[39m,figsize\u001b[38;5;241m=\u001b[39m(\u001b[38;5;241m5\u001b[39m,\u001b[38;5;241m5\u001b[39m))\n\u001b[1;32m     14\u001b[0m axs3\u001b[38;5;241m.\u001b[39merrorbar(np\u001b[38;5;241m.\u001b[39marray(data[\u001b[38;5;241m1\u001b[39m][\u001b[38;5;124m'\u001b[39m\u001b[38;5;124mEnergy\u001b[39m\u001b[38;5;124m'\u001b[39m]),np\u001b[38;5;241m.\u001b[39marray(data[\u001b[38;5;241m1\u001b[39m][\u001b[38;5;124m'\u001b[39m\u001b[38;5;124mInt\u001b[39m\u001b[38;5;124m'\u001b[39m]),np\u001b[38;5;241m.\u001b[39marray(data[\u001b[38;5;241m1\u001b[39m][\u001b[38;5;124m'\u001b[39m\u001b[38;5;124mInt_err\u001b[39m\u001b[38;5;124m'\u001b[39m]), marker\u001b[38;5;241m=\u001b[39m\u001b[38;5;124m'\u001b[39m\u001b[38;5;124mo\u001b[39m\u001b[38;5;124m'\u001b[39m,color\u001b[38;5;241m=\u001b[39m[\u001b[38;5;241m1\u001b[39m,\u001b[38;5;241m0.4\u001b[39m,\u001b[38;5;241m0\u001b[39m],linestyle\u001b[38;5;241m=\u001b[39m\u001b[38;5;124m'\u001b[39m\u001b[38;5;124m'\u001b[39m)\n",
      "File \u001b[0;32m/opt/anaconda3/lib/python3.12/site-packages/MJOLNIR/_tools.py:70\u001b[0m, in \u001b[0;36mKwargChecker.<locals>.KwargCheckerNone.<locals>.newFunc\u001b[0;34m(*args, **kwargs)\u001b[0m\n\u001b[1;32m     67\u001b[0m \u001b[38;5;129m@functools\u001b[39m\u001b[38;5;241m.\u001b[39mwraps(func)\n\u001b[1;32m     68\u001b[0m \u001b[38;5;28;01mdef\u001b[39;00m \u001b[38;5;21mnewFunc\u001b[39m(\u001b[38;5;241m*\u001b[39margs,\u001b[38;5;241m*\u001b[39m\u001b[38;5;241m*\u001b[39mkwargs):\n\u001b[1;32m     69\u001b[0m     argList \u001b[38;5;241m=\u001b[39m extractArgsList(func,newFunc,function,include)\n\u001b[0;32m---> 70\u001b[0m     checkArgumentList(argList,kwargs)\n\u001b[1;32m     71\u001b[0m     returnval \u001b[38;5;241m=\u001b[39m func(\u001b[38;5;241m*\u001b[39margs,\u001b[38;5;241m*\u001b[39m\u001b[38;5;241m*\u001b[39mkwargs)\n\u001b[1;32m     72\u001b[0m     \u001b[38;5;28;01mreturn\u001b[39;00m returnval\n",
      "File \u001b[0;32m/opt/anaconda3/lib/python3.12/site-packages/MJOLNIR/_tools.py:115\u001b[0m, in \u001b[0;36mcheckArgumentList\u001b[0;34m(argList, kwargs)\u001b[0m\n\u001b[1;32m    113\u001b[0m     errorMsg \u001b[38;5;241m=\u001b[39m notFound[\u001b[38;5;241m0\u001b[39m]\n\u001b[1;32m    114\u001b[0m error \u001b[38;5;241m=\u001b[39m \u001b[38;5;167;01mAttributeError\u001b[39;00m(errorMsg)\n\u001b[0;32m--> 115\u001b[0m \u001b[38;5;28;01mraise\u001b[39;00m error\n",
      "\u001b[0;31mAttributeError\u001b[0m: Key-word argument \"cmap\" not understood. Did you mean \"snap\"?"
     ]
    }
   ],
   "source": [
    "ds=ds\n",
    "EMin = 0  #Energy minimum\n",
    "EMax = 10 #Energy maximum\n",
    "dE = .1 #Energy steps\n",
    "QMin =0 #1/A\n",
    "QMax =2.5 #1/A\n",
    "dQ=.02 #Q steps\n",
    "\n",
    "vmin=0 #minimum of the colorscale\n",
    "vmax=0.05 #maximum of colorscale\n",
    "cmap=parula\n",
    "data=ds.plotCutPowder(EBins=np.arange(EMin,EMax,dE), QBins=np.arange(QMin,QMax, dQ),cmap=cmap,vmin=vmin,vmax=vmax)\n",
    "fig,axs3=plt.subplots(1,figsize=(5,5))\n",
    "axs3.errorbar(np.array(data[1]['Energy']),np.array(data[1]['Int']),np.array(data[1]['Int_err']), marker='o',color=[1,0.4,0],linestyle='')\n"
   ]
  },
  {
   "cell_type": "markdown",
   "metadata": {},
   "source": [
    "Example how to plot a Q-Plane over an energy window\n",
    "\n",
    "Plots unsmoothed and smoothed Q-Plane"
   ]
  },
  {
   "cell_type": "code",
   "execution_count": 17,
   "metadata": {},
   "outputs": [
    {
     "data": {
      "text/plain": [
       "<matplotlib.colorbar.Colorbar at 0x7fb14fb6b890>"
      ]
     },
     "execution_count": 17,
     "metadata": {},
     "output_type": "execute_result"
    }
   ],
   "source": [
    "EMin =-0.2 #Energy minimum\n",
    "EMax =0.2 #Energy maximum\n",
    "#xBinTolerance = 2*np.pi/ds[0].sample.c*.03 #value in rlu. binning along x\n",
    "#yBinTolerance = np.sqrt(5)*2*np.pi/ds[0].sample.b*0.03 #value in rlu\n",
    "xBinTolerance = .03 #value in 1/A. binning along x\n",
    "yBinTolerance = .03 #value in 1/A. binning along y\n",
    "vim=0 #minimum of the color scale\n",
    "vmax=.01#maximum of the color scale\n",
    "cmap=parula #cmap for smoothed plane\n",
    "#cmap='jet'\n",
    "Data,ax = ds.plotQPlane(EMin=EMin, EMax=EMax,xBinTolerance=xBinTolerance,yBinTolerance=yBinTolerance,log=False)#,cmap = 'Reds')\n",
    "fig = ax.get_figure() # Extract figure from returned axis\n",
    "fig.colorbar(ax.pmeshs[0]) # Create colorbar from plot\n",
    "ax.set_clim(vmin,vmax)"
   ]
  },
  {
   "cell_type": "code",
   "execution_count": 110,
   "metadata": {},
   "outputs": [
    {
     "data": {
      "text/plain": [
       "0.7308633136447706"
      ]
     },
     "execution_count": 110,
     "metadata": {},
     "output_type": "execute_result"
    }
   ],
   "source": [
    "ds[0].sample.c*.15"
   ]
  },
  {
   "cell_type": "markdown",
   "metadata": {},
   "source": [
    "Example how to plot QE-Plane"
   ]
  },
  {
   "cell_type": "code",
   "execution_count": 279,
   "metadata": {},
   "outputs": [
    {
     "data": {
      "text/plain": [
       "Text(0.5, 1.0, 'title')"
      ]
     },
     "execution_count": 279,
     "metadata": {},
     "output_type": "execute_result"
    }
   ],
   "source": [
    "dset=ds\n",
    "rlu = True\n",
    "#grid = -10\n",
    "grid = False\n",
    "self = dset\n",
    "dataFiles = None\n",
    "rlu = True\n",
    "Q1 = np.array([0,-1.85,-1]) #Q1 of cut\n",
    "Q2 = np.array([0,1.85,-1])  #Q2 of cut\n",
    "width = 2*np.pi/ds[0].sample.c*.15#integration width perpendicular to Q\n",
    "minPixel = 2*np.pi/ds[0].sample.b*0.02 #step along Q\n",
    "#Q1 = np.array([0,-1,-1.5]) #Q1 of cut\n",
    "#Q2 = np.array([0,-1,-0.25])  #Q2 of cut\n",
    "#width = 2*np.pi/ds[0].sample.b*.1#integration width perpendicular to Q\n",
    "#minPixel = 2*np.pi/ds[0].sample.c*0.01#step along Q\n",
    "\n",
    "EMin =0 #Energy minimum\n",
    "EMax = 10#Energy maximum\n",
    "dE = 0.05 #Energy steps\n",
    "energy = np.arange(EMin,EMax,dE)\n",
    "#width = 2#integration width perpendicular to Q in 1/A\n",
    "#minPixel = 0.005 #step along Q in 1/A\n",
    "vmin=0   #caxis minimum\n",
    "vmax=0.2#caxis maximum\n",
    "#cmap='viridis' #cmap for coloscale\n",
    "cmap=parula\n",
    "#cmap='Reds'\n",
    "axSUB,data,bins = dset.plotCutQE(Q1,Q2,EnergyBins=energy,width=width,minPixel=minPixel,vmin=vmin,vmax=vmax,colorbar=True,cmap=cmap)\n",
    "axSUB.set_title('title')\n",
    "#######################"
   ]
  },
  {
   "cell_type": "code",
   "execution_count": 221,
   "metadata": {},
   "outputs": [],
   "source": [
    "plt.close('all')"
   ]
  },
  {
   "cell_type": "code",
   "execution_count": 273,
   "metadata": {},
   "outputs": [
    {
     "data": {
      "text/plain": [
       "Text(0.5, 1.0, 'title')"
      ]
     },
     "execution_count": 273,
     "metadata": {},
     "output_type": "execute_result"
    }
   ],
   "source": [
    "dset=ds\n",
    "rlu = True\n",
    "#grid = -10\n",
    "grid = False\n",
    "self = dset\n",
    "dataFiles = None\n",
    "rlu = True\n",
    "\n",
    "Q1 = np.array([0,1,-2]) #Q1 of cut\n",
    "Q2 = np.array([0,1,-.25])  #Q2 of cut\n",
    "width = 2*np.pi/ds[0].sample.b*.1#integration width perpendicular to Q\n",
    "minPixel = 2*np.pi/ds[0].sample.c*0.01#step along Q\n",
    "\n",
    "EMin =0 #Energy minimum\n",
    "EMax = 9.5#Energy maximum\n",
    "dE = 0.05 #Energy steps\n",
    "energy = np.arange(EMin,EMax,dE)\n",
    "#width = 2#integration width perpendicular to Q in 1/A\n",
    "#minPixel = 0.005 #step along Q in 1/A\n",
    "vmin=0   #caxis minimum\n",
    "vmax=.2#caxis maximum\n",
    "#cmap='viridis' #cmap for coloscale\n",
    "cmap=parula\n",
    "#cmap='Reds'\n",
    "axSUB,data,bins = dset.plotCutQE(Q1,Q2,EnergyBins=energy,width=width,minPixel=minPixel,vmin=vmin,vmax=vmax,colorbar=True,cmap=cmap)\n",
    "axSUB.set_title('title')\n",
    "#######################"
   ]
  },
  {
   "cell_type": "code",
   "execution_count": 16,
   "metadata": {},
   "outputs": [
    {
     "ename": "ValueError",
     "evalue": "NaN values detected in your input data or the output of your objective/model function - fitting algorithms cannot handle this! Please read https://lmfit.github.io/lmfit-py/faq.html#i-get-errors-from-nan-in-my-fit-what-can-i-do for more information.",
     "output_type": "error",
     "traceback": [
      "\u001b[0;31m---------------------------------------------------------------------------\u001b[0m",
      "\u001b[0;31mValueError\u001b[0m                                Traceback (most recent call last)",
      "\u001b[0;32m<ipython-input-16-3612e83b8a7b>\u001b[0m in \u001b[0;36m<module>\u001b[0;34m\u001b[0m\n\u001b[1;32m     13\u001b[0m \u001b[0;34m\u001b[0m\u001b[0m\n\u001b[1;32m     14\u001b[0m \u001b[0mgmodel\u001b[0m \u001b[0;34m=\u001b[0m \u001b[0mModel\u001b[0m\u001b[0;34m(\u001b[0m\u001b[0mgaussianslope\u001b[0m\u001b[0;34m)\u001b[0m\u001b[0;34m\u001b[0m\u001b[0;34m\u001b[0m\u001b[0m\n\u001b[0;32m---> 15\u001b[0;31m \u001b[0mresult\u001b[0m \u001b[0;34m=\u001b[0m \u001b[0mgmodel\u001b[0m\u001b[0;34m.\u001b[0m\u001b[0mfit\u001b[0m\u001b[0;34m(\u001b[0m\u001b[0mdat\u001b[0m\u001b[0;34m[\u001b[0m\u001b[0;34m'Int'\u001b[0m\u001b[0;34m]\u001b[0m\u001b[0;34m,\u001b[0m \u001b[0mx\u001b[0m\u001b[0;34m=\u001b[0m\u001b[0mdat\u001b[0m\u001b[0;34m[\u001b[0m\u001b[0;34m'Energy'\u001b[0m\u001b[0;34m]\u001b[0m\u001b[0;34m,\u001b[0m \u001b[0mbg\u001b[0m\u001b[0;34m=\u001b[0m\u001b[0;36m0.001\u001b[0m\u001b[0;34m,\u001b[0m\u001b[0mslope\u001b[0m\u001b[0;34m=\u001b[0m\u001b[0;36m0\u001b[0m\u001b[0;34m,\u001b[0m \u001b[0mamp1\u001b[0m\u001b[0;34m=\u001b[0m\u001b[0;36m1\u001b[0m\u001b[0;34m,\u001b[0m\u001b[0mcen1\u001b[0m\u001b[0;34m=\u001b[0m\u001b[0;36m2.5\u001b[0m\u001b[0;34m,\u001b[0m \u001b[0mwid1\u001b[0m\u001b[0;34m=\u001b[0m\u001b[0;36m0.1\u001b[0m\u001b[0;34m)\u001b[0m\u001b[0;34m\u001b[0m\u001b[0;34m\u001b[0m\u001b[0m\n\u001b[0m\u001b[1;32m     16\u001b[0m axs2.plot(np.linspace(np.array(dat['Energy'])[0],np.array(dat['Energy'])[-1],1000),\n\u001b[1;32m     17\u001b[0m gaussianslope(np.linspace(np.array(dat['Energy'])[0],np.array(dat['Energy'])[-1],1000),result.params['bg'],result.params['slope'],\n",
      "\u001b[0;32m~/opt/anaconda3/lib/python3.7/site-packages/lmfit/model.py\u001b[0m in \u001b[0;36mfit\u001b[0;34m(self, data, params, weights, method, iter_cb, scale_covar, verbose, fit_kws, nan_policy, calc_covar, max_nfev, **kwargs)\u001b[0m\n\u001b[1;32m   1011\u001b[0m                              \u001b[0mnan_policy\u001b[0m\u001b[0;34m=\u001b[0m\u001b[0mself\u001b[0m\u001b[0;34m.\u001b[0m\u001b[0mnan_policy\u001b[0m\u001b[0;34m,\u001b[0m \u001b[0mcalc_covar\u001b[0m\u001b[0;34m=\u001b[0m\u001b[0mcalc_covar\u001b[0m\u001b[0;34m,\u001b[0m\u001b[0;34m\u001b[0m\u001b[0;34m\u001b[0m\u001b[0m\n\u001b[1;32m   1012\u001b[0m                              max_nfev=max_nfev, **fit_kws)\n\u001b[0;32m-> 1013\u001b[0;31m         \u001b[0moutput\u001b[0m\u001b[0;34m.\u001b[0m\u001b[0mfit\u001b[0m\u001b[0;34m(\u001b[0m\u001b[0mdata\u001b[0m\u001b[0;34m=\u001b[0m\u001b[0mdata\u001b[0m\u001b[0;34m,\u001b[0m \u001b[0mweights\u001b[0m\u001b[0;34m=\u001b[0m\u001b[0mweights\u001b[0m\u001b[0;34m)\u001b[0m\u001b[0;34m\u001b[0m\u001b[0;34m\u001b[0m\u001b[0m\n\u001b[0m\u001b[1;32m   1014\u001b[0m         \u001b[0moutput\u001b[0m\u001b[0;34m.\u001b[0m\u001b[0mcomponents\u001b[0m \u001b[0;34m=\u001b[0m \u001b[0mself\u001b[0m\u001b[0;34m.\u001b[0m\u001b[0mcomponents\u001b[0m\u001b[0;34m\u001b[0m\u001b[0;34m\u001b[0m\u001b[0m\n\u001b[1;32m   1015\u001b[0m         \u001b[0;32mreturn\u001b[0m \u001b[0moutput\u001b[0m\u001b[0;34m\u001b[0m\u001b[0;34m\u001b[0m\u001b[0m\n",
      "\u001b[0;32m~/opt/anaconda3/lib/python3.7/site-packages/lmfit/model.py\u001b[0m in \u001b[0;36mfit\u001b[0;34m(self, data, params, weights, method, nan_policy, **kwargs)\u001b[0m\n\u001b[1;32m   1364\u001b[0m         \u001b[0mself\u001b[0m\u001b[0;34m.\u001b[0m\u001b[0muserkws\u001b[0m\u001b[0;34m.\u001b[0m\u001b[0mupdate\u001b[0m\u001b[0;34m(\u001b[0m\u001b[0mkwargs\u001b[0m\u001b[0;34m)\u001b[0m\u001b[0;34m\u001b[0m\u001b[0;34m\u001b[0m\u001b[0m\n\u001b[1;32m   1365\u001b[0m         \u001b[0mself\u001b[0m\u001b[0;34m.\u001b[0m\u001b[0minit_fit\u001b[0m \u001b[0;34m=\u001b[0m \u001b[0mself\u001b[0m\u001b[0;34m.\u001b[0m\u001b[0mmodel\u001b[0m\u001b[0;34m.\u001b[0m\u001b[0meval\u001b[0m\u001b[0;34m(\u001b[0m\u001b[0mparams\u001b[0m\u001b[0;34m=\u001b[0m\u001b[0mself\u001b[0m\u001b[0;34m.\u001b[0m\u001b[0mparams\u001b[0m\u001b[0;34m,\u001b[0m \u001b[0;34m**\u001b[0m\u001b[0mself\u001b[0m\u001b[0;34m.\u001b[0m\u001b[0muserkws\u001b[0m\u001b[0;34m)\u001b[0m\u001b[0;34m\u001b[0m\u001b[0;34m\u001b[0m\u001b[0m\n\u001b[0;32m-> 1366\u001b[0;31m         \u001b[0m_ret\u001b[0m \u001b[0;34m=\u001b[0m \u001b[0mself\u001b[0m\u001b[0;34m.\u001b[0m\u001b[0mminimize\u001b[0m\u001b[0;34m(\u001b[0m\u001b[0mmethod\u001b[0m\u001b[0;34m=\u001b[0m\u001b[0mself\u001b[0m\u001b[0;34m.\u001b[0m\u001b[0mmethod\u001b[0m\u001b[0;34m)\u001b[0m\u001b[0;34m\u001b[0m\u001b[0;34m\u001b[0m\u001b[0m\n\u001b[0m\u001b[1;32m   1367\u001b[0m \u001b[0;34m\u001b[0m\u001b[0m\n\u001b[1;32m   1368\u001b[0m         \u001b[0;32mfor\u001b[0m \u001b[0mattr\u001b[0m \u001b[0;32min\u001b[0m \u001b[0mdir\u001b[0m\u001b[0;34m(\u001b[0m\u001b[0m_ret\u001b[0m\u001b[0;34m)\u001b[0m\u001b[0;34m:\u001b[0m\u001b[0;34m\u001b[0m\u001b[0;34m\u001b[0m\u001b[0m\n",
      "\u001b[0;32m~/opt/anaconda3/lib/python3.7/site-packages/lmfit/minimizer.py\u001b[0m in \u001b[0;36mminimize\u001b[0;34m(self, method, params, **kws)\u001b[0m\n\u001b[1;32m   2283\u001b[0m                         val.lower().startswith(user_method)):\n\u001b[1;32m   2284\u001b[0m                     \u001b[0mkwargs\u001b[0m\u001b[0;34m[\u001b[0m\u001b[0;34m'method'\u001b[0m\u001b[0;34m]\u001b[0m \u001b[0;34m=\u001b[0m \u001b[0mval\u001b[0m\u001b[0;34m\u001b[0m\u001b[0;34m\u001b[0m\u001b[0m\n\u001b[0;32m-> 2285\u001b[0;31m         \u001b[0;32mreturn\u001b[0m \u001b[0mfunction\u001b[0m\u001b[0;34m(\u001b[0m\u001b[0;34m**\u001b[0m\u001b[0mkwargs\u001b[0m\u001b[0;34m)\u001b[0m\u001b[0;34m\u001b[0m\u001b[0;34m\u001b[0m\u001b[0m\n\u001b[0m\u001b[1;32m   2286\u001b[0m \u001b[0;34m\u001b[0m\u001b[0m\n\u001b[1;32m   2287\u001b[0m \u001b[0;34m\u001b[0m\u001b[0m\n",
      "\u001b[0;32m~/opt/anaconda3/lib/python3.7/site-packages/lmfit/minimizer.py\u001b[0m in \u001b[0;36mleastsq\u001b[0;34m(self, params, max_nfev, **kws)\u001b[0m\n\u001b[1;32m   1644\u001b[0m         \u001b[0mresult\u001b[0m\u001b[0;34m.\u001b[0m\u001b[0mcall_kws\u001b[0m \u001b[0;34m=\u001b[0m \u001b[0mlskws\u001b[0m\u001b[0;34m\u001b[0m\u001b[0;34m\u001b[0m\u001b[0m\n\u001b[1;32m   1645\u001b[0m         \u001b[0;32mtry\u001b[0m\u001b[0;34m:\u001b[0m\u001b[0;34m\u001b[0m\u001b[0;34m\u001b[0m\u001b[0m\n\u001b[0;32m-> 1646\u001b[0;31m             \u001b[0mlsout\u001b[0m \u001b[0;34m=\u001b[0m \u001b[0mscipy_leastsq\u001b[0m\u001b[0;34m(\u001b[0m\u001b[0mself\u001b[0m\u001b[0;34m.\u001b[0m\u001b[0m__residual\u001b[0m\u001b[0;34m,\u001b[0m \u001b[0mvariables\u001b[0m\u001b[0;34m,\u001b[0m \u001b[0;34m**\u001b[0m\u001b[0mlskws\u001b[0m\u001b[0;34m)\u001b[0m\u001b[0;34m\u001b[0m\u001b[0;34m\u001b[0m\u001b[0m\n\u001b[0m\u001b[1;32m   1647\u001b[0m         \u001b[0;32mexcept\u001b[0m \u001b[0mAbortFitException\u001b[0m\u001b[0;34m:\u001b[0m\u001b[0;34m\u001b[0m\u001b[0;34m\u001b[0m\u001b[0m\n\u001b[1;32m   1648\u001b[0m             \u001b[0;32mpass\u001b[0m\u001b[0;34m\u001b[0m\u001b[0;34m\u001b[0m\u001b[0m\n",
      "\u001b[0;32m~/opt/anaconda3/lib/python3.7/site-packages/scipy/optimize/minpack.py\u001b[0m in \u001b[0;36mleastsq\u001b[0;34m(func, x0, args, Dfun, full_output, col_deriv, ftol, xtol, gtol, maxfev, epsfcn, factor, diag)\u001b[0m\n\u001b[1;32m    408\u001b[0m     \u001b[0;32mif\u001b[0m \u001b[0;32mnot\u001b[0m \u001b[0misinstance\u001b[0m\u001b[0;34m(\u001b[0m\u001b[0margs\u001b[0m\u001b[0;34m,\u001b[0m \u001b[0mtuple\u001b[0m\u001b[0;34m)\u001b[0m\u001b[0;34m:\u001b[0m\u001b[0;34m\u001b[0m\u001b[0;34m\u001b[0m\u001b[0m\n\u001b[1;32m    409\u001b[0m         \u001b[0margs\u001b[0m \u001b[0;34m=\u001b[0m \u001b[0;34m(\u001b[0m\u001b[0margs\u001b[0m\u001b[0;34m,\u001b[0m\u001b[0;34m)\u001b[0m\u001b[0;34m\u001b[0m\u001b[0;34m\u001b[0m\u001b[0m\n\u001b[0;32m--> 410\u001b[0;31m     \u001b[0mshape\u001b[0m\u001b[0;34m,\u001b[0m \u001b[0mdtype\u001b[0m \u001b[0;34m=\u001b[0m \u001b[0m_check_func\u001b[0m\u001b[0;34m(\u001b[0m\u001b[0;34m'leastsq'\u001b[0m\u001b[0;34m,\u001b[0m \u001b[0;34m'func'\u001b[0m\u001b[0;34m,\u001b[0m \u001b[0mfunc\u001b[0m\u001b[0;34m,\u001b[0m \u001b[0mx0\u001b[0m\u001b[0;34m,\u001b[0m \u001b[0margs\u001b[0m\u001b[0;34m,\u001b[0m \u001b[0mn\u001b[0m\u001b[0;34m)\u001b[0m\u001b[0;34m\u001b[0m\u001b[0;34m\u001b[0m\u001b[0m\n\u001b[0m\u001b[1;32m    411\u001b[0m     \u001b[0mm\u001b[0m \u001b[0;34m=\u001b[0m \u001b[0mshape\u001b[0m\u001b[0;34m[\u001b[0m\u001b[0;36m0\u001b[0m\u001b[0;34m]\u001b[0m\u001b[0;34m\u001b[0m\u001b[0;34m\u001b[0m\u001b[0m\n\u001b[1;32m    412\u001b[0m \u001b[0;34m\u001b[0m\u001b[0m\n",
      "\u001b[0;32m~/opt/anaconda3/lib/python3.7/site-packages/scipy/optimize/minpack.py\u001b[0m in \u001b[0;36m_check_func\u001b[0;34m(checker, argname, thefunc, x0, args, numinputs, output_shape)\u001b[0m\n\u001b[1;32m     22\u001b[0m def _check_func(checker, argname, thefunc, x0, args, numinputs,\n\u001b[1;32m     23\u001b[0m                 output_shape=None):\n\u001b[0;32m---> 24\u001b[0;31m     \u001b[0mres\u001b[0m \u001b[0;34m=\u001b[0m \u001b[0matleast_1d\u001b[0m\u001b[0;34m(\u001b[0m\u001b[0mthefunc\u001b[0m\u001b[0;34m(\u001b[0m\u001b[0;34m*\u001b[0m\u001b[0;34m(\u001b[0m\u001b[0;34m(\u001b[0m\u001b[0mx0\u001b[0m\u001b[0;34m[\u001b[0m\u001b[0;34m:\u001b[0m\u001b[0mnuminputs\u001b[0m\u001b[0;34m]\u001b[0m\u001b[0;34m,\u001b[0m\u001b[0;34m)\u001b[0m \u001b[0;34m+\u001b[0m \u001b[0margs\u001b[0m\u001b[0;34m)\u001b[0m\u001b[0;34m)\u001b[0m\u001b[0;34m)\u001b[0m\u001b[0;34m\u001b[0m\u001b[0;34m\u001b[0m\u001b[0m\n\u001b[0m\u001b[1;32m     25\u001b[0m     \u001b[0;32mif\u001b[0m \u001b[0;34m(\u001b[0m\u001b[0moutput_shape\u001b[0m \u001b[0;32mis\u001b[0m \u001b[0;32mnot\u001b[0m \u001b[0;32mNone\u001b[0m\u001b[0;34m)\u001b[0m \u001b[0;32mand\u001b[0m \u001b[0;34m(\u001b[0m\u001b[0mshape\u001b[0m\u001b[0;34m(\u001b[0m\u001b[0mres\u001b[0m\u001b[0;34m)\u001b[0m \u001b[0;34m!=\u001b[0m \u001b[0moutput_shape\u001b[0m\u001b[0;34m)\u001b[0m\u001b[0;34m:\u001b[0m\u001b[0;34m\u001b[0m\u001b[0;34m\u001b[0m\u001b[0m\n\u001b[1;32m     26\u001b[0m         \u001b[0;32mif\u001b[0m \u001b[0;34m(\u001b[0m\u001b[0moutput_shape\u001b[0m\u001b[0;34m[\u001b[0m\u001b[0;36m0\u001b[0m\u001b[0;34m]\u001b[0m \u001b[0;34m!=\u001b[0m \u001b[0;36m1\u001b[0m\u001b[0;34m)\u001b[0m\u001b[0;34m:\u001b[0m\u001b[0;34m\u001b[0m\u001b[0;34m\u001b[0m\u001b[0m\n",
      "\u001b[0;32m~/opt/anaconda3/lib/python3.7/site-packages/lmfit/minimizer.py\u001b[0m in \u001b[0;36m__residual\u001b[0;34m(self, fvars, apply_bounds_transformation)\u001b[0m\n\u001b[1;32m    589\u001b[0m         \u001b[0;32melse\u001b[0m\u001b[0;34m:\u001b[0m\u001b[0;34m\u001b[0m\u001b[0;34m\u001b[0m\u001b[0m\n\u001b[1;32m    590\u001b[0m             return _nan_policy(np.asarray(out).ravel(),\n\u001b[0;32m--> 591\u001b[0;31m                                nan_policy=self.nan_policy)\n\u001b[0m\u001b[1;32m    592\u001b[0m \u001b[0;34m\u001b[0m\u001b[0m\n\u001b[1;32m    593\u001b[0m     \u001b[0;32mdef\u001b[0m \u001b[0m__jacobian\u001b[0m\u001b[0;34m(\u001b[0m\u001b[0mself\u001b[0m\u001b[0;34m,\u001b[0m \u001b[0mfvars\u001b[0m\u001b[0;34m)\u001b[0m\u001b[0;34m:\u001b[0m\u001b[0;34m\u001b[0m\u001b[0;34m\u001b[0m\u001b[0m\n",
      "\u001b[0;32m~/opt/anaconda3/lib/python3.7/site-packages/lmfit/minimizer.py\u001b[0m in \u001b[0;36m_nan_policy\u001b[0;34m(arr, nan_policy, handle_inf)\u001b[0m\n\u001b[1;32m   2364\u001b[0m                    \u001b[0;34m'handle this! Please read https://lmfit.github.io/lmfit-py/faq.html#i-get-errors-from-nan-in-my-fit-what-can-i-do '\u001b[0m\u001b[0;34m\u001b[0m\u001b[0;34m\u001b[0m\u001b[0m\n\u001b[1;32m   2365\u001b[0m                    'for more information.')\n\u001b[0;32m-> 2366\u001b[0;31m             \u001b[0;32mraise\u001b[0m \u001b[0mValueError\u001b[0m\u001b[0;34m(\u001b[0m\u001b[0mmsg\u001b[0m\u001b[0;34m)\u001b[0m\u001b[0;34m\u001b[0m\u001b[0;34m\u001b[0m\u001b[0m\n\u001b[0m\u001b[1;32m   2367\u001b[0m     \u001b[0;32mreturn\u001b[0m \u001b[0marr\u001b[0m\u001b[0;34m\u001b[0m\u001b[0;34m\u001b[0m\u001b[0m\n\u001b[1;32m   2368\u001b[0m \u001b[0;34m\u001b[0m\u001b[0m\n",
      "\u001b[0;31mValueError\u001b[0m: NaN values detected in your input data or the output of your objective/model function - fitting algorithms cannot handle this! Please read https://lmfit.github.io/lmfit-py/faq.html#i-get-errors-from-nan-in-my-fit-what-can-i-do for more information."
     ]
    }
   ],
   "source": [
    "center=-1\n",
    "minPixelr_rlu = minPixel/2/np.pi*ds[0].sample.a\n",
    "for H, dat in data[np.logical_and(data['L']<=center+minPixelr_rlu/2,data['L']>center-minPixelr_rlu/2)].groupby('L'):\n",
    "    print(H)\n",
    "fig,axs2=plt.subplots(1,figsize=(5,5))\n",
    "axs2.errorbar(dat['Energy'],dat['Int'],dat['Int_err'], marker='o',color=[.8,0.6,0],linestyle='',label=r'Q='+str(center))\n",
    "#gmodel = Model(gaussian2)\n",
    "#result = gmodel.fit(dat['Int'], x=dat['Energy'], bg=0.001, amp1=1,cen1=2.4, wid1=0.1, amp2=1,cen2=2.75, wid2=0.1)\n",
    "#axs2.plot(np.linspace(np.array(dat['Energy'])[0],np.array(dat['Energy'])[-1],1000),\n",
    "#gaussian2(np.linspace(np.array(dat['Energy'])[0],np.array(dat['Energy'])[-1],1000),result.params['bg'],\n",
    "#result.params['amp1'],result.params['cen1'],result.params['wid1'],\n",
    "#result.params['amp2'],result.params['cen2'],result.params['wid2']),color=[1,0.4,0],linestyle='--')\n",
    "\n",
    "gmodel = Model(gaussianslope)\n",
    "result = gmodel.fit(dat['Int'], x=dat['Energy'], bg=0.001,slope=0, amp1=1,cen1=2.5, wid1=0.1)\n",
    "axs2.plot(np.linspace(np.array(dat['Energy'])[0],np.array(dat['Energy'])[-1],1000),\n",
    "gaussianslope(np.linspace(np.array(dat['Energy'])[0],np.array(dat['Energy'])[-1],1000),result.params['bg'],result.params['slope'],\n",
    "result.params['amp1'],result.params['cen1'],result.params['wid1']),color=[1,0.4,1],linestyle='--')\n",
    "\n",
    "\n",
    "\n",
    "axs2.set_ylabel('I (a.u.)')\n",
    "axs2.set_xlabel('E = (meV)')\n",
    "axs2.legend(frameon=False)\n",
    "print(result.params['cen1'])\n",
    "print(result.params['wid1'])\n",
    "\n",
    "print(result.params['cen2'])\n",
    "print(result.params['wid2'])"
   ]
  },
  {
   "cell_type": "markdown",
   "metadata": {},
   "source": [
    "Q-cuts"
   ]
  },
  {
   "cell_type": "code",
   "execution_count": 258,
   "metadata": {},
   "outputs": [
    {
     "name": "stderr",
     "output_type": "stream",
     "text": [
      "/opt/anaconda3/lib/python3.12/site-packages/executing/executing.py:713: DeprecationWarning: ast.Str is deprecated and will be removed in Python 3.14; use ast.Constant instead\n",
      "  right=ast.Str(s=sentinel),\n",
      "/opt/anaconda3/lib/python3.12/ast.py:587: DeprecationWarning: Attribute s is deprecated and will be removed in Python 3.14; use value instead\n",
      "  return Constant(*args, **kwargs)\n"
     ]
    },
    {
     "ename": "AttributeError",
     "evalue": "module 'numpy' has no attribute 'int'.\n`np.int` was a deprecated alias for the builtin `int`. To avoid this error in existing code, use `int` by itself. Doing this will not modify any behavior and is safe. When replacing `np.int`, you may wish to use e.g. `np.int64` or `np.int32` to specify the precision. If you wish to review your current use, check the release note link for additional information.\nThe aliases was originally deprecated in NumPy 1.20; for more details and guidance see the original release note at:\n    https://numpy.org/devdocs/release/1.20.0-notes.html#deprecations",
     "output_type": "error",
     "traceback": [
      "\u001b[0;31m---------------------------------------------------------------------------\u001b[0m",
      "\u001b[0;31mAttributeError\u001b[0m                            Traceback (most recent call last)",
      "Cell \u001b[0;32mIn[258], line 22\u001b[0m\n\u001b[1;32m     18\u001b[0m \u001b[38;5;66;03m####Fits the cut with Model and start values and then plots it####\u001b[39;00m\n\u001b[1;32m     19\u001b[0m \n\u001b[1;32m     20\u001b[0m \u001b[38;5;66;03m######Makes title and axes\u001b[39;00m\n\u001b[1;32m     21\u001b[0m Eav\u001b[38;5;241m=\u001b[39mnp\u001b[38;5;241m.\u001b[39mround(EMin\u001b[38;5;241m+\u001b[39m(EMax\u001b[38;5;241m-\u001b[39mEMin)\u001b[38;5;241m/\u001b[39m\u001b[38;5;241m2\u001b[39m,\u001b[38;5;241m2\u001b[39m)\n\u001b[0;32m---> 22\u001b[0m Edif\u001b[38;5;241m=\u001b[39mnp\u001b[38;5;241m.\u001b[39mint(np\u001b[38;5;241m.\u001b[39mround(\u001b[38;5;241m100\u001b[39m\u001b[38;5;241m*\u001b[39m(EMax\u001b[38;5;241m-\u001b[39mEMin)\u001b[38;5;241m/\u001b[39m\u001b[38;5;241m2\u001b[39m,\u001b[38;5;241m0\u001b[39m))\n\u001b[1;32m     23\u001b[0m \u001b[38;5;28;01mif\u001b[39;00m scanvar\u001b[38;5;241m!=\u001b[39m\u001b[38;5;124m'\u001b[39m\u001b[38;5;124mEnergy\u001b[39m\u001b[38;5;124m'\u001b[39m:\n\u001b[1;32m     24\u001b[0m     axs2\u001b[38;5;241m.\u001b[39mset_title(\u001b[38;5;124mr\u001b[39m\u001b[38;5;124m\"\u001b[39m\u001b[38;5;124m$\u001b[39m\u001b[38;5;124m\\\u001b[39m\u001b[38;5;124mDelta$E = \u001b[39m\u001b[38;5;124m\"\u001b[39m\u001b[38;5;241m+\u001b[39m  \u001b[38;5;28mstr\u001b[39m(Eav) \u001b[38;5;241m+\u001b[39m \u001b[38;5;124m\"\u001b[39m\u001b[38;5;124m(\u001b[39m\u001b[38;5;124m\"\u001b[39m \u001b[38;5;241m+\u001b[39m \u001b[38;5;28mstr\u001b[39m(Edif) \u001b[38;5;241m+\u001b[39m \u001b[38;5;124m\"\u001b[39m\u001b[38;5;124m) mev. Q$_1$ = \u001b[39m\u001b[38;5;124m\"\u001b[39m \u001b[38;5;241m+\u001b[39m \u001b[38;5;28mstr\u001b[39m(Q1) \u001b[38;5;241m+\u001b[39m \u001b[38;5;124m'\u001b[39m\u001b[38;5;124m, Q$_2$ =\u001b[39m\u001b[38;5;124m'\u001b[39m \u001b[38;5;241m+\u001b[39m\u001b[38;5;28mstr\u001b[39m(Q2))\n",
      "File \u001b[0;32m/opt/anaconda3/lib/python3.12/site-packages/numpy/__init__.py:324\u001b[0m, in \u001b[0;36m__getattr__\u001b[0;34m(attr)\u001b[0m\n\u001b[1;32m    319\u001b[0m     warnings\u001b[38;5;241m.\u001b[39mwarn(\n\u001b[1;32m    320\u001b[0m         \u001b[38;5;124mf\u001b[39m\u001b[38;5;124m\"\u001b[39m\u001b[38;5;124mIn the future `np.\u001b[39m\u001b[38;5;132;01m{\u001b[39;00mattr\u001b[38;5;132;01m}\u001b[39;00m\u001b[38;5;124m` will be defined as the \u001b[39m\u001b[38;5;124m\"\u001b[39m\n\u001b[1;32m    321\u001b[0m         \u001b[38;5;124m\"\u001b[39m\u001b[38;5;124mcorresponding NumPy scalar.\u001b[39m\u001b[38;5;124m\"\u001b[39m, \u001b[38;5;167;01mFutureWarning\u001b[39;00m, stacklevel\u001b[38;5;241m=\u001b[39m\u001b[38;5;241m2\u001b[39m)\n\u001b[1;32m    323\u001b[0m \u001b[38;5;28;01mif\u001b[39;00m attr \u001b[38;5;129;01min\u001b[39;00m __former_attrs__:\n\u001b[0;32m--> 324\u001b[0m     \u001b[38;5;28;01mraise\u001b[39;00m \u001b[38;5;167;01mAttributeError\u001b[39;00m(__former_attrs__[attr])\n\u001b[1;32m    326\u001b[0m \u001b[38;5;28;01mif\u001b[39;00m attr \u001b[38;5;241m==\u001b[39m \u001b[38;5;124m'\u001b[39m\u001b[38;5;124mtesting\u001b[39m\u001b[38;5;124m'\u001b[39m:\n\u001b[1;32m    327\u001b[0m     \u001b[38;5;28;01mimport\u001b[39;00m \u001b[38;5;21;01mnumpy\u001b[39;00m\u001b[38;5;21;01m.\u001b[39;00m\u001b[38;5;21;01mtesting\u001b[39;00m \u001b[38;5;28;01mas\u001b[39;00m \u001b[38;5;21;01mtesting\u001b[39;00m\n",
      "\u001b[0;31mAttributeError\u001b[0m: module 'numpy' has no attribute 'int'.\n`np.int` was a deprecated alias for the builtin `int`. To avoid this error in existing code, use `int` by itself. Doing this will not modify any behavior and is safe. When replacing `np.int`, you may wish to use e.g. `np.int64` or `np.int32` to specify the precision. If you wish to review your current use, check the release note link for additional information.\nThe aliases was originally deprecated in NumPy 1.20; for more details and guidance see the original release note at:\n    https://numpy.org/devdocs/release/1.20.0-notes.html#deprecations"
     ]
    }
   ],
   "source": [
    "Q1 = np.array([0,-2,-1])  #Q-position\n",
    "Q2 = np.array([0,2,-1])  #Q-position\n",
    "scanvar='K' #define scan dirrection H, K, L\n",
    "width = 2*np.pi/ds[0].sample.c*.15#integration width perpendicular to Q in 1/A\n",
    "minPixel = 2*np.pi/(ds[0].sample.b)*0.025 #step along Q in rlu\n",
    "#width= 2*np.pi/ds[0].sample.c*0.1#integration width perpendicular to Q\n",
    "#minPixel = 2*np.pi/(ds[0].sample.a)*0.01 #step along Q\n",
    "EMin=-0.1#Energy window\n",
    "EMax=0.11 #Energy window\n",
    "rlu = True\n",
    "constantBins = True\n",
    "####Plots the cut####\n",
    "data, bin = ds.cut1D(Emin=EMin,Emax=EMax, q1=Q1, q2=Q2,width=width,minPixel=minPixel,rlu=True,constantBins=constantBins,ufit=False,extend=False)\n",
    "\n",
    "fig,axs2=plt.subplots(1,figsize=(5,5))\n",
    "axs2.errorbar(data[scanvar],data['Int'],data['Int_err'], marker='o',color=[1,0.4,0],linestyle='-',label=r'Q='+str(Q1))\n",
    "\n",
    "####Fits the cut with Model and start values and then plots it####\n",
    "\n",
    "######Makes title and axes\n",
    "Eav=np.round(EMin+(EMax-EMin)/2,2)\n",
    "Edif=np.int(np.round(100*(EMax-EMin)/2,0))\n",
    "if scanvar!='Energy':\n",
    "    axs2.set_title(r\"$\\Delta$E = \"+  str(Eav) + \"(\" + str(Edif) + \") mev. Q$_1$ = \" + str(Q1) + ', Q$_2$ =' +str(Q2))\n",
    "    axs2.set_xlabel('q = '+str((Q1-Q2)/np.sqrt(np.sum((Q1-Q2)**2)))+' (r.l.u.)')\n",
    "if scanvar=='Energy':\n",
    "    axs2.set_title(\"q = \"+  str(Q1) + \"(\" + str((Q1-Q2)/2) + \") (r.l.u.)\")\n",
    "    axs2.set_xlabel('E = (meV)')\n",
    "#print(result.params['bg'])\n",
    "#print(result.params['amp1']/(np.sqrt(2*np.pi)*result.params['wid1']))\n",
    "#print((result.params['amp1']/(np.sqrt(2*np.pi)*result.params['wid1']))/result.params['bg']*100)"
   ]
  },
  {
   "cell_type": "markdown",
   "metadata": {},
   "source": [
    "General cutting path"
   ]
  },
  {
   "cell_type": "code",
   "execution_count": 42,
   "metadata": {},
   "outputs": [
    {
     "name": "stderr",
     "output_type": "stream",
     "text": [
      "/Users/danielmazzone/opt/anaconda3/lib/python3.7/site-packages/pandas/core/indexes/base.py:395: DeprecationWarning: `np.bool` is a deprecated alias for the builtin `bool`. To silence this warning, use `bool` by itself. Doing this will not modify any behavior and is safe. If you specifically wanted the numpy scalar type, use `np.bool_` here.\n",
      "Deprecated in NumPy 1.20; for more details and guidance: https://numpy.org/devdocs/release/1.20.0-notes.html#deprecations\n",
      "  elif issubclass(data.dtype.type, np.bool) or is_bool_dtype(data):\n",
      "/Users/danielmazzone/opt/anaconda3/lib/python3.7/site-packages/pandas/core/indexes/base.py:395: DeprecationWarning: `np.bool` is a deprecated alias for the builtin `bool`. To silence this warning, use `bool` by itself. Doing this will not modify any behavior and is safe. If you specifically wanted the numpy scalar type, use `np.bool_` here.\n",
      "Deprecated in NumPy 1.20; for more details and guidance: https://numpy.org/devdocs/release/1.20.0-notes.html#deprecations\n",
      "  elif issubclass(data.dtype.type, np.bool) or is_bool_dtype(data):\n",
      "/Users/danielmazzone/opt/anaconda3/lib/python3.7/site-packages/pandas/core/indexes/base.py:395: DeprecationWarning: `np.bool` is a deprecated alias for the builtin `bool`. To silence this warning, use `bool` by itself. Doing this will not modify any behavior and is safe. If you specifically wanted the numpy scalar type, use `np.bool_` here.\n",
      "Deprecated in NumPy 1.20; for more details and guidance: https://numpy.org/devdocs/release/1.20.0-notes.html#deprecations\n",
      "  elif issubclass(data.dtype.type, np.bool) or is_bool_dtype(data):\n",
      "/Users/danielmazzone/opt/anaconda3/lib/python3.7/site-packages/pandas/core/indexes/base.py:395: DeprecationWarning: `np.bool` is a deprecated alias for the builtin `bool`. To silence this warning, use `bool` by itself. Doing this will not modify any behavior and is safe. If you specifically wanted the numpy scalar type, use `np.bool_` here.\n",
      "Deprecated in NumPy 1.20; for more details and guidance: https://numpy.org/devdocs/release/1.20.0-notes.html#deprecations\n",
      "  elif issubclass(data.dtype.type, np.bool) or is_bool_dtype(data):\n",
      "/Users/danielmazzone/opt/anaconda3/lib/python3.7/site-packages/pandas/core/indexes/base.py:395: DeprecationWarning: `np.bool` is a deprecated alias for the builtin `bool`. To silence this warning, use `bool` by itself. Doing this will not modify any behavior and is safe. If you specifically wanted the numpy scalar type, use `np.bool_` here.\n",
      "Deprecated in NumPy 1.20; for more details and guidance: https://numpy.org/devdocs/release/1.20.0-notes.html#deprecations\n",
      "  elif issubclass(data.dtype.type, np.bool) or is_bool_dtype(data):\n",
      "/Users/danielmazzone/opt/anaconda3/lib/python3.7/site-packages/pandas/core/indexes/base.py:395: DeprecationWarning: `np.bool` is a deprecated alias for the builtin `bool`. To silence this warning, use `bool` by itself. Doing this will not modify any behavior and is safe. If you specifically wanted the numpy scalar type, use `np.bool_` here.\n",
      "Deprecated in NumPy 1.20; for more details and guidance: https://numpy.org/devdocs/release/1.20.0-notes.html#deprecations\n",
      "  elif issubclass(data.dtype.type, np.bool) or is_bool_dtype(data):\n",
      "/Users/danielmazzone/opt/anaconda3/lib/python3.7/site-packages/pandas/core/indexes/base.py:395: DeprecationWarning: `np.bool` is a deprecated alias for the builtin `bool`. To silence this warning, use `bool` by itself. Doing this will not modify any behavior and is safe. If you specifically wanted the numpy scalar type, use `np.bool_` here.\n",
      "Deprecated in NumPy 1.20; for more details and guidance: https://numpy.org/devdocs/release/1.20.0-notes.html#deprecations\n",
      "  elif issubclass(data.dtype.type, np.bool) or is_bool_dtype(data):\n"
     ]
    }
   ],
   "source": [
    "grid = False\n",
    "dataFiles = None\n",
    "rlu = True\n",
    "dss=ds\n",
    "Q1 = np.array([2.25,0,1]) #Q1 of cut\n",
    "Q2 = np.array([0,0,1])  #Q2 of cut\n",
    "Q3 = np.array([0,0,2]) #Q1 of cu  \n",
    "Q4 = np.array([2,0,0]) #Q1 of cu \n",
    "Q5 = np.array([1,0,0]) #Q1 of cu \n",
    "Q6 = np.array([1,0,-1]) #Q1 of cu \n",
    "Q7 = np.array([2,0,0]) #Q1 of cu \n",
    "Q8 = np.array([2,0,1.5]) #Q1 of cu \n",
    "EMin =0  #Energy minimum\n",
    "EMax =4 #Energy maximum\n",
    "dE = 0.035 #Energy steps\n",
    "energy = np.arange(EMin,EMax,dE)\n",
    "width = 2*np.pi/ds[0].sample.a*.1#integration width perpendicular to Q in rlu\n",
    "minPixel = 2*np.pi/ds[0].sample.c*0.02 #step along Q   in rlu\n",
    "#width = 2*np.pi/ds[0].sample.c*.5#integration width perpendicular to Q in 1/A\n",
    "#minPixel = np.sqrt(2)*2*np.pi/ds[0].sample.a*0.01 #step along Q   in 1/A\n",
    "\n",
    "\n",
    "vmin=-0.000   #caxis minimum\n",
    "vmax=0.1#caxis maxmimum\n",
    "cmap=parula\n",
    "axFG,data,bins = dss.plotCutQELine(QPoints=np.array([Q1,Q2,Q3,Q4,Q5,Q6,Q7,Q8]),EnergyBins=energy,width=width,minPixel=minPixel,rlu=rlu,plotSeperator=True,seperatorWidth=1,seperatorColor='k',cmap=cmap)\n",
    "axFG.set_title('40 mK, 3 T')\n",
    "axSUB.locator_params(axis='x', nbins=45)\n",
    "axSUB.set_ylabel(r'$\\Delta$E [meV]',fontsize=16)\n",
    "axSUB.tick_params(axis='both', which='major', labelsize=16)\n",
    "axFG.set_clim(vmin,vmax)"
   ]
  },
  {
   "cell_type": "markdown",
   "metadata": {},
   "source": [
    "Example how to plot along a general path"
   ]
  },
  {
   "cell_type": "markdown",
   "metadata": {},
   "source": [
    "1d-cu along energy (circular integration width)"
   ]
  },
  {
   "cell_type": "code",
   "execution_count": 275,
   "metadata": {},
   "outputs": [
    {
     "name": "stdout",
     "output_type": "stream",
     "text": [
      "<Parameter 'cen1', value=-0.02282192872098424 +/- 0.00361, bounds=[-inf:inf]>\n",
      "0.19155354104897088\n",
      "0.008289825330952126\n"
     ]
    },
    {
     "data": {
      "text/plain": [
       "Text(0, 0.5, 'I (abs)')"
      ]
     },
     "execution_count": 275,
     "metadata": {},
     "output_type": "execute_result"
    }
   ],
   "source": [
    "dss=ds\n",
    "Q1 = np.array([0,08,-1])  #Q-position\n",
    "\n",
    "width = .1#integration width perpendicular to Q in 1/A\n",
    "minPixel = 0.04 #step along Energy\n",
    "EMin=-1 #Minimum of energy\n",
    "EMax=8 #Maximum of enerrgy\n",
    "rlu = True\n",
    "constantBins = True\n",
    "scanvar='Energy'\n",
    "data, bin = dss.cut1DE(E1=EMin,E2=EMax, q=Q1,width=width,minPixel=minPixel,rlu=rlu,constantBins=constantBins,ufit=False)\n",
    "fig,axs3=plt.subplots(1,figsize=(5,5))\n",
    "axs3.errorbar(data['Energy'],data['Int'],data['Int_err'], marker='o',color=[1,0.4,0],linestyle='',label=r'Q='+str(Q1))\n",
    "gmodel = Model(gaussianslope)\n",
    "result = gmodel.fit(data['Int'], x=data['Energy'], bg=0.001, slope=0.00, amp1=1,cen1=0, wid1=0.1)\n",
    "axs3.plot(np.linspace(np.array(data['Energy'])[0],np.array(data['Energy'])[-1],1000),\n",
    "gaussianslope(np.linspace(np.array(data['Energy'])[0],np.array(data['Energy'])[-1],1000),result.params['bg'],result.params['slope'],\n",
    "result.params['amp1'],result.params['cen1'],result.params['wid1']),color=[1,0.4,1],linestyle='--')\n",
    "\n",
    "print(result.params['cen1'])\n",
    "\n",
    "print(result.params['wid1'].value*2*np.sqrt(2*np.log(2)))\n",
    "print(result.params['wid1'].stderr*2*np.sqrt(2*np.log(2)))\n",
    "######Makes title and axes\n",
    "Eav=np.round(EMin+(EMax-EMin)/2,1)\n",
    "Edif=int(np.round(10*(EMax-EMin)/2,0))\n",
    "if scanvar!='Energy':\n",
    "    axs3.set_title(r\"$\\Delta$E = \"+  str(Eav) + \"(\" + str(Edif) + \") mev\")\n",
    "    axs3.set_title(r\"$\\Delta$E = \"+  str(Eav) + \"(\" + str(Edif) + \") mev. Q$_1$ = \" + str(Q1) + ', Q$_2$ =' +str(Q2))\n",
    "if scanvar=='Energy':\n",
    "    #axs3.set_title(\"q = \"+  str(Q1) + \"(\" + str((Q1-Q2)/2) + \") (r.l.u.)\")\n",
    "    axs3.set_xlabel('E = (meV)')\n",
    "#print(result.chisqr)\n",
    "axs3.legend(frameon=False)\n",
    "axs3.set_ylabel(r'I (abs)')\n",
    "\n"
   ]
  },
  {
   "cell_type": "code",
   "execution_count": 277,
   "metadata": {},
   "outputs": [],
   "source": [
    "plt.close('all')"
   ]
  },
  {
   "cell_type": "code",
   "execution_count": null,
   "metadata": {},
   "outputs": [],
   "source": []
  }
 ],
 "metadata": {
  "kernelspec": {
   "display_name": "Python 3 (ipykernel)",
   "language": "python",
   "name": "python3"
  },
  "language_info": {
   "codemirror_mode": {
    "name": "ipython",
    "version": 3
   },
   "file_extension": ".py",
   "mimetype": "text/x-python",
   "name": "python",
   "nbconvert_exporter": "python",
   "pygments_lexer": "ipython3",
   "version": "3.12.7"
  }
 },
 "nbformat": 4,
 "nbformat_minor": 4
}
