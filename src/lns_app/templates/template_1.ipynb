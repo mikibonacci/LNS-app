{
 "cells": [
  {
   "cell_type": "markdown",
   "id": "5a297c9c",
   "metadata": {},
   "source": [
    "# Example 1\n",
    "\n",
    "This notebook shows how to plot results from the example data contained in the Mnf2_oct_2021/data folder. \n",
    "You can use the notebook both in Editable or Appmode."
   ]
  },
  {
   "cell_type": "code",
   "execution_count": null,
   "id": "c6d6c7cf",
   "metadata": {},
   "outputs": [],
   "source": [
    "# Import of libraries needed\n",
    "%matplotlib notebook\n",
    "\n",
    "from MJOLNIR.Data import DataSet\n",
    "from MJOLNIR import _tools # Usefull tools useful across MJOLNIR\n",
    "import numpy as np\n",
    "import matplotlib.pyplot as plt\n",
    "from pathlib import Path\n",
    "import ipywidgets as ipw\n",
    "from IPython.display import display\n",
    "\n",
    "from lns_app.utils.inspect_folders import grep_hdf_files_informations\n",
    "from lns_app.utils.widgets import FilesNumberWidget,PlotButton\n",
    "\n",
    "plt.rcParams['font.family'] = 'DeJavu Serif'\n",
    "plt.rcParams['font.serif'] = ['Times New Roman']"
   ]
  },
  {
   "cell_type": "code",
   "execution_count": null,
   "id": "bb3e163f",
   "metadata": {},
   "outputs": [],
   "source": [
    "# Please don't change this cell, it will be replaced by the template engine\n",
    "PROPOSAL_ID = \"--PROPOSAL_ID--\"\n",
    "PATH = \"--PATH--\""
   ]
  },
  {
   "cell_type": "code",
   "execution_count": null,
   "id": "33a829c7",
   "metadata": {},
   "outputs": [],
   "source": [
    "# Please don't change this cell, it contains information needed for the plotting\n",
    "# you can access, in another cell, the file_numbers variable, it contains the file numbers that you can use \n",
    "# in the plot_view_3D function.\n",
    "if PROPOSAL_ID == \"--PROPOSAL_ID--\": PROPOSAL_ID = '2103456'\n",
    "PATH = Path('Mnf2_oct_2021').joinpath('data',PROPOSAL_ID) if PATH == \"--PATH--\" else Path(PATH)\n",
    "\n",
    "path = Path.resolve(PATH / PROPOSAL_ID)\n",
    "year_number, file_numbers = grep_hdf_files_informations(path)"
   ]
  },
  {
   "cell_type": "code",
   "execution_count": null,
   "id": "020cda55",
   "metadata": {},
   "outputs": [],
   "source": [
    "def plot_view_3D(path, file_numbers_selected, dQx=0.03,dQy=0.03,dE=0.05):\n",
    "    \"\"\"\n",
    "    If you are not in appmode, you can run this function in another cell to plot the 3D view of the data.\n",
    "\n",
    "    path: Path to the folder containing the data files. Already defined above.\n",
    "    file_numbers_selected: Comma-separated string of file numbers to be selected for the plot. \n",
    "                           Can be also dash-separated if you want to select a range (e.g., \"1-5\").\n",
    "    dQx: Binning in Qx direction (default is 0.03).\n",
    "    dQy: Binning in Qy direction (default is 0.03).\n",
    "    dE: Binning in energy direction (default is 0.05).\n",
    "    \"\"\"\n",
    "\n",
    "    # Loading and conversion of data\n",
    "    files = _tools.fileListGenerator(\n",
    "        file_numbers_selected, \n",
    "        folder=path,\n",
    "        year=int(year_number[0]),\n",
    "    )\n",
    "\n",
    "    # Define the DataSet object and provide file(s)\n",
    "    ds = DataSet.DataSet(dataFiles=files)\n",
    "\n",
    "    # Run the converter. If no binning is specified MJOLNIR uses highest possible binning (currently 8)\n",
    "    ds.convertDataFile()\n",
    "    Viewer = ds.View3D(dQx,dQy,dE, grid=True, size_inches=(9,6))\n",
    "\n",
    "# The following code is used in Appmode, you can ignore this if you are using\n",
    "# the notebook mode (i.e. you are reading this). To customize the plot, you can \n",
    "# copy the above plot_view_3D function in a new cell below and modify it.\n",
    "file_selection = FilesNumberWidget(file_numbers=file_numbers)\n",
    "b = PlotButton()\n",
    "\n",
    "def on_button_click(_):\n",
    "    with output:\n",
    "        output.clear_output()  # Clear previous plot\n",
    "        plot_view_3D(\n",
    "            path=path, \n",
    "            file_numbers_selected=\",\".join(file_selection.selected_file_numbers),\n",
    "            dQx = b.dQx.value,\n",
    "            dQy = b.dQy.value,\n",
    "            dE = b.dE.value,\n",
    "        )\n",
    "        \n",
    "b.button.on_click(on_button_click)\n",
    "\n",
    "output = ipw.Output()\n",
    "display(ipw.VBox([file_selection,b]), output)"
   ]
  },
  {
   "cell_type": "code",
   "execution_count": null,
   "id": "12c5eafa",
   "metadata": {},
   "outputs": [],
   "source": []
  }
 ],
 "metadata": {
  "kernelspec": {
   "display_name": "Python 3 (ipykernel)",
   "language": "python",
   "name": "python3"
  },
  "language_info": {
   "codemirror_mode": {
    "name": "ipython",
    "version": 3
   },
   "file_extension": ".py",
   "mimetype": "text/x-python",
   "name": "python",
   "nbconvert_exporter": "python",
   "pygments_lexer": "ipython3",
   "version": "3.9.13"
  }
 },
 "nbformat": 4,
 "nbformat_minor": 5
}
