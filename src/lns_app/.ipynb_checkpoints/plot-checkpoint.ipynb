{
 "cells": [
  {
   "cell_type": "markdown",
   "metadata": {},
   "source": [
    "# Demo CSV plot app\n",
    "## Upload a CSV file with two columns to plot it"
   ]
  },
  {
   "cell_type": "code",
   "execution_count": 25,
   "metadata": {},
   "outputs": [
    {
     "data": {
      "application/vnd.jupyter.widget-view+json": {
       "model_id": "c65aa781ce434e68a7616dde299d264a",
       "version_major": 2,
       "version_minor": 0
      },
      "text/plain": [
       "HBox(children=(FileUpload(value={}, accept='.csv', description='Upload CSV'),))"
      ]
     },
     "metadata": {},
     "output_type": "display_data"
    },
    {
     "data": {
      "application/vnd.jupyter.widget-view+json": {
       "model_id": "aa01db556a744ff4992fb5f88fdd9203",
       "version_major": 2,
       "version_minor": 0
      },
      "text/plain": [
       "Output()"
      ]
     },
     "metadata": {},
     "output_type": "display_data"
    }
   ],
   "source": [
    "import ipywidgets as widgets\n",
    "from IPython.display import display\n",
    "import pandas as pd\n",
    "import io\n",
    "import plotly.express as px\n",
    "\n",
    "def get_new_upload_button():\n",
    "    \"\"\"Create a FileUpload widget.\"\"\"\n",
    "    return widgets.FileUpload(\n",
    "        description='Upload CSV',\n",
    "        accept='.csv',  # Accepts CSV files\n",
    "        multiple=False  # Single file upload\n",
    "    )\n",
    "\n",
    "def reset_uploader():\n",
    "    \"\"\"Reset the uploader button (replace it).\"\"\"\n",
    "    global button_box\n",
    "    \n",
    "    file_upload = get_new_upload_button()\n",
    "    file_upload.observe(on_file_upload, names='value')\n",
    "    \n",
    "    # Replace the file upload widget (not sure if this creates memory leaks)\n",
    "    button_box.children = [file_upload]\n",
    "\n",
    "\n",
    "plot_output = widgets.Output()\n",
    "def on_file_upload(change):\n",
    "    \"\"\"Function to handle file upload and process CSV.\"\"\"\n",
    "    global plot_output, button_box\n",
    "\n",
    "    file_upload = button_box.children[0]\n",
    "    \n",
    "    # Check if files are uploaded\n",
    "    if file_upload.value:\n",
    "        # Extract uploaded file    \n",
    "        uploaded_file = list(file_upload.value.values())[0]\n",
    "        content = uploaded_file['content']\n",
    "        \n",
    "        # Reset the FileUpload widget\n",
    "        # TODO\n",
    "\n",
    "        # Read the CSV content into a pandas DataFrame\n",
    "        df = pd.read_csv(io.StringIO(content.decode('utf-8')))\n",
    "        \n",
    "        # Validate the DataFrame format\n",
    "        if df.shape[1] != 2:\n",
    "            print(\"Error: The uploaded CSV must contain exactly two columns.\")\n",
    "        else:       \n",
    "            with plot_output:\n",
    "                plot_output.clear_output(wait=True)\n",
    "                # Create a line plot with Plotly\n",
    "                fig = px.line(df, x=df.columns[0], y=df.columns[1], title=\"Line Plot\")\n",
    "                fig.update_layout(xaxis_title='X-axis', yaxis_title='Y-axis')\n",
    "                fig.show()\n",
    "        \n",
    "        # Clear the output area and reinitialize the uploader\n",
    "        reset_uploader()\n",
    "            \n",
    "# Observe changes in the file_upload widget\n",
    "file_upload = get_new_upload_button()\n",
    "file_upload.observe(on_file_upload, names='value')\n",
    "\n",
    "button_box = widgets.HBox([file_upload])\n",
    "\n",
    "# Display the widget\n",
    "display(button_box)\n",
    "display(plot_output)"
   ]
  },
  {
   "cell_type": "code",
   "execution_count": null,
   "metadata": {},
   "outputs": [],
   "source": []
  }
 ],
 "metadata": {
  "kernelspec": {
   "display_name": "Python 3 (ipykernel)",
   "language": "python",
   "name": "python3"
  },
  "language_info": {
   "codemirror_mode": {
    "name": "ipython",
    "version": 3
   },
   "file_extension": ".py",
   "mimetype": "text/x-python",
   "name": "python",
   "nbconvert_exporter": "python",
   "pygments_lexer": "ipython3",
   "version": "3.9.13"
  }
 },
 "nbformat": 4,
 "nbformat_minor": 2
}
