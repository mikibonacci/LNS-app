{
 "cells": [
  {
   "cell_type": "markdown",
   "metadata": {},
   "source": [
    "# CAMEA proposals list and analysis\n",
    "\n",
    "In this page, the user can see the list of available proposals and the related files (with some details).\n",
    "Moreover, it is possible to open another page and perform analysis (using the [MJOLNIR](https://mjolnir.readthedocs.io/en/latest/index.html) code).\n",
    "\n",
    "The analysis page can be opened as a standard jupyter notebook, i.e. with the possibility to change the contained python code, or in the *app mode*, i.e. just accessing the graphical user interface.\n",
    "\n",
    "To open an example notebook, it is possible to select among representative proposals by ticking the \"Just use examples\" checkbox.\n",
    "\n",
    "By using the *\"Delete notebook\"* button, the notebook related to the given proposal will be deleted. If you don't want to lose them but anyway start a new analysis, please download it before clicking the button."
   ]
  },
  {
   "cell_type": "code",
   "execution_count": 6,
   "metadata": {},
   "outputs": [],
   "source": [
    "%%capture\n",
    "import ipywidgets as ipw\n",
    "import subprocess\n",
    "from pathlib import Path\n",
    "\n",
    "from lns_app.proposals_mvc import ProposalsManagerMVC"
   ]
  },
  {
   "cell_type": "code",
   "execution_count": 7,
   "metadata": {},
   "outputs": [],
   "source": [
    "w = ProposalsManagerMVC(\n",
    "    proposals_folder=Path('/home/jovyan/apps/LNS-apps/examples/Mnf2_oct_2021/data'),\n",
    "    analysis_folder = Path('/home/jovyan/work/camea_analysis/'),\n",
    "    testing_folder = Path('/home/jovyan/work/camea_testing/')\n",
    "    )\n",
    "w.render()"
   ]
  },
  {
   "cell_type": "code",
   "execution_count": 8,
   "metadata": {},
   "outputs": [
    {
     "data": {
      "application/vnd.jupyter.widget-view+json": {
       "model_id": "f29241b5caed4a4095e85d21a5962348",
       "version_major": 2,
       "version_minor": 0
      },
      "text/plain": [
       "ProposalsManagerMVC(children=(HBox(children=(Dropdown(description='Proposal ID:', options=('2103456',), value=…"
      ]
     },
     "metadata": {},
     "output_type": "display_data"
    }
   ],
   "source": [
    "w"
   ]
  },
  {
   "cell_type": "code",
   "execution_count": null,
   "metadata": {},
   "outputs": [],
   "source": []
  }
 ],
 "metadata": {
  "kernelspec": {
   "display_name": "Python 3 (ipykernel)",
   "language": "python",
   "name": "python3"
  },
  "language_info": {
   "codemirror_mode": {
    "name": "ipython",
    "version": 3
   },
   "file_extension": ".py",
   "mimetype": "text/x-python",
   "name": "python",
   "nbconvert_exporter": "python",
   "pygments_lexer": "ipython3",
   "version": "3.9.13"
  }
 },
 "nbformat": 4,
 "nbformat_minor": 2
}
